{
 "cells": [
  {
   "cell_type": "code",
   "execution_count": null,
   "metadata": {
    "collapsed": true
   },
   "outputs": [],
   "source": [
    "from hmmlearn.hmm import GaussianHMM\n",
    "import matplotlib.pyplot as plt\n",
    "import numpy as np\n",
    "from scipy.io import loadmat, savemat\n",
    "import seaborn\n",
    "\n",
    "# Open the data\n",
    "ya = loadmat(\"data.mat\")[\"y\"].squeeze(0)\n",
    "xa = loadmat(\"data.mat\")[\"x\"].squeeze(0)\n",
    "\n",
    "# Define the number of state n\n",
    "n=2\n",
    "\n",
    "# Downsample\n",
    "def downsample(t, factor):\n",
    "    return (t[: len(t) // factor * factor].\n",
    "            reshape((-1, factor)).mean(axis=1))\n",
    "\n",
    "x = downsample(xa, 70)\n",
    "data = downsample(ya, 70)\n",
    "\n",
    "# Define intial and transition probabilties; and model\n",
    "def init_prob(n):\n",
    "    return np.full(n, 1 / n)\n",
    "\n",
    "def trans_prob(n):\n",
    "    eps = .001\n",
    "    a = np.full((n, n), eps)\n",
    "    for i in range(n):\n",
    "        a[i, i] = 1 - eps * (n - 1)\n",
    "    return a\n",
    "\n",
    "def make_model(n):\n",
    "    return GaussianHMM(n, \"diag\", init_prob(n), trans_prob(n))\n",
    "\n",
    "# Run Model\n",
    "model = make_model(n)\n",
    "data_for_hmm = data[..., None] - data.mean()\n",
    "\n",
    "model.fit([data_for_hmm])\n",
    "print(model.transmat_)\n",
    "\n",
    "fitted = model.predict(data_for_hmm)\n",
    "savemat(\"Run1\", {\"fitted\": fitted, \"transitions\": model.transmat_,\n",
    "                       \"means\": model.means_, \"covars\": model.covars_})\n",
    "\n",
    "\n",
    "# Plot  \n",
    "fig, (top, mid, bot) = plt.subplots(3)\n",
    "plt.xlabel('time (s)')\n",
    "plt.ylabel('Bead distance variation (nm)')\n",
    "top.plot(xa, ya - ya.mean())\n",
    "mid.plot(x, data - data.mean())\n",
    "bot.plot(x, data - data.mean())\n",
    "plt.xlabel('time (s)')\n",
    "plt.ylabel('Bead distance variation (nm)')\n",
    "bot.plot(x, model.means_[fitted], \"r\", alpha=.5)\n",
    "plt.show()"
   ]
  }
 ],
 "metadata": {
  "kernelspec": {
   "display_name": "Python 2",
   "language": "python",
   "name": "python2"
  },
  "language_info": {
   "codemirror_mode": {
    "name": "ipython",
    "version": 2
   },
   "file_extension": ".py",
   "mimetype": "text/x-python",
   "name": "python",
   "nbconvert_exporter": "python",
   "pygments_lexer": "ipython2",
   "version": "2.7.11"
  }
 },
 "nbformat": 4,
 "nbformat_minor": 0
}
