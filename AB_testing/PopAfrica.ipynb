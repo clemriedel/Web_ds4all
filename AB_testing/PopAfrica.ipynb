{
 "cells": [
  {
   "cell_type": "markdown",
   "metadata": {},
   "source": [
    "# \"A/B testing\" made simple for everyone.\n",
    "\n",
    "and: Z-test, chi-square, Beta distribution clean codes for programmers.\n",
    "\n",
    "##### Clement Riedel, July 2016\n"
   ]
  },
  {
   "cell_type": "markdown",
   "metadata": {},
   "source": [
    "You have two doors: one blue, one green. You want to know which one people are going to open. \n",
    "\n",
    "<img src=\"AB_testing_TwoDoors.png\">\n",
    "\n",
    "This is a metaphor. A/B testing is about predicting people's behavior and it does not matter if you think that they are opening a door, clicking on a button, registering to a website, putting an item in a basket or liking something... To make our study more concrete, we will consider the following case:\n",
    "\n",
    "*** You own a website and you want to know if users are more likely to \"register\" (click on a button to get in) if the website theme is blue or green. ***\n",
    "\n",
    "Let's design a very simple experiment. You are going to split the next 1000 users in half: 500 are going to view the blue website (Website A) while the other 500 are going to see the green one (Website B). We record the number of views and registration for each website."
   ]
  },
  {
   "cell_type": "code",
   "execution_count": 12,
   "metadata": {
    "collapsed": false
   },
   "outputs": [
    {
     "data": {
      "text/plain": [
       "0     1950.0\n",
       "1     1960.0\n",
       "2     1970.0\n",
       "3     1980.0\n",
       "4     1990.0\n",
       "5     2000.0\n",
       "6     2010.0\n",
       "7     2020.0\n",
       "8        NaN\n",
       "9        NaN\n",
       "10       NaN\n",
       "11       NaN\n",
       "12       NaN\n",
       "13       NaN\n",
       "14       NaN\n",
       "15       NaN\n",
       "16       NaN\n",
       "17       NaN\n",
       "18       NaN\n",
       "19       NaN\n",
       "20       NaN\n",
       "Name: Population, dtype: float64"
      ]
     },
     "execution_count": 12,
     "metadata": {},
     "output_type": "execute_result"
    }
   ],
   "source": [
    "import numpy as np\n",
    "import pandas as pd\n",
    "import matplotlib.pyplot as plt\n",
    "import seaborn as sns\n",
    "\n",
    "\n",
    "\n",
    "%matplotlib inline\n",
    "\n",
    "df = pd.read_csv('popWroldUN.csv')\n",
    "df.head()\n",
    "\n",
    "\n",
    "\n",
    "df['Population']"
   ]
  },
  {
   "cell_type": "markdown",
   "metadata": {},
   "source": [
    "Well that's great: Website B is performing better than Website A, let's move on. Are you sure? There is way more information that we can obtain, such as: **What is the probability that Website B performs better than Website A just by chance?** (If you were to repeat the same experiment how confident are you would that you would observe the same trend?). These questions can be anwsered using classical statistics (Z-test and Chi-square). \n",
    "\n",
    "If you think that some events can be described with some 'degrees of belief', and are interested to know about how to quantify them, you should read up to the Bayesian part. We are going to draw distributions, we are going to make it simple. My goal is to share with you the idea that Figure 2 is more beautiful and informative than Figure 1."
   ]
  },
  {
   "cell_type": "markdown",
   "metadata": {},
   "source": [
    "# Z-test"
   ]
  },
  {
   "cell_type": "markdown",
   "metadata": {},
   "source": [
    "If you are not familiar with statistics, we advise you to look at the <a href=\"https://www.khanacademy.org/math/probability/statistics-inferential\">Inferential statistics</a> class from Khan Academy. If you understand the three following points, you should be able to follow:\n",
    "- We make the hypothesis that both website are equivalent (i.e. they have the same conversion rate.) We call it the \"Null hypothesis\".\n",
    "- The p-value is the probability to obtain the observed result (or something \"more extrem\") when the null hypothesis is true.\n",
    "- The 'Two Samples z-test for Proportions' permits to find the z-value (see <a href=\"http://math.mercyhurst.edu/~griff/courses/m109/Lectures/sect8.4.pdf\">this pdf</a> for more details) and using tables we can then compute the p-value.\n",
    "\n",
    "An alternative to manually coding the z value and looking at the p-value in a table is to use the proportions_ztest from statsmodels:"
   ]
  },
  {
   "cell_type": "code",
   "execution_count": 8,
   "metadata": {
    "collapsed": false
   },
   "outputs": [
    {
     "name": "stdout",
     "output_type": "stream",
     "text": [
      "z-stat = -1.7 \n",
      "p-value = 0.045\n"
     ]
    }
   ],
   "source": [
    "import numpy as np\n",
    "from statsmodels.stats.proportion import proportions_ztest\n",
    "\n",
    "views = np.array([views_A, views_B])\n",
    "regs = np.array([regs_A,regs_B])\n",
    "\n",
    "z,p = proportions_ztest(regs, views, value=0)\n",
    "print('z-stat = {:.2} \\np-value = {:.2}'.format(z, p/2))"
   ]
  },
  {
   "cell_type": "code",
   "execution_count": 9,
   "metadata": {
    "collapsed": false
   },
   "outputs": [
    {
     "name": "stdout",
     "output_type": "stream",
     "text": [
      "The probability to observe that site B performs better than site A while the ground truth is that they are equivalent is 0.045.\n",
      "\n",
      "If the p-value is small (usally p < 0.05) statisticians reject the null hypothesis that the sites are equivalent and conclude that B performs better.\n"
     ]
    }
   ],
   "source": [
    "print('The probability to observe that site B performs better than site A while the ground truth is that they are equivalent is {:.2}.'.format(p/2))\n",
    "print('')\n",
    "print('If the p-value is small (usally p < 0.05) statisticians reject the null hypothesis that the sites are equivalent and conclude that B performs better.')"
   ]
  },
  {
   "cell_type": "markdown",
   "metadata": {},
   "source": [
    "# Chi square"
   ]
  },
  {
   "cell_type": "code",
   "execution_count": 10,
   "metadata": {
    "collapsed": false
   },
   "outputs": [
    {
     "name": "stdout",
     "output_type": "stream",
     "text": [
      "p-value = 0.045\n"
     ]
    }
   ],
   "source": [
    "from scipy.stats import chi2_contingency\n",
    "chi2, p, dof, expected = chi2_contingency([[regs_A, not_conv_A], [regs_B, not_conv_B]], correction=False)\n",
    "print('p-value = {:.2}'.format(p/2))"
   ]
  },
  {
   "cell_type": "markdown",
   "metadata": {},
   "source": [
    "# Bayesian inference, Beta distribution"
   ]
  },
  {
   "cell_type": "code",
   "execution_count": 11,
   "metadata": {
    "collapsed": false
   },
   "outputs": [
    {
     "data": {
      "image/png": "[encoded data removed]",
      "text/plain": [
       "<matplotlib.figure.Figure at 0x11784b450>"
      ]
     },
     "metadata": {},
     "output_type": "display_data"
    }
   ],
   "source": [
    "from numpy.random import beta as beta_dist\n",
    "\n",
    "A_samples = beta_dist(regs_A, not_conv_A, total)\n",
    "B_samples = beta_dist(regs_B, not_conv_B, total)\n",
    "\n",
    "ax = sns.distplot(A_samples)\n",
    "ax = sns.distplot(B_samples)\n",
    "ax.set_title('Figure 2', fontsize=20)\n",
    "sns.axlabel('Conversion rate', 'Probability')"
   ]
  },
  {
   "cell_type": "code",
   "execution_count": 14,
   "metadata": {
    "collapsed": false
   },
   "outputs": [
    {
     "data": {
      "text/plain": [
       "0.20218007597074467"
      ]
     },
     "execution_count": 14,
     "metadata": {},
     "output_type": "execute_result"
    }
   ],
   "source": [
    "np.mean(A_samples)"
   ]
  },
  {
   "cell_type": "code",
   "execution_count": 13,
   "metadata": {
    "collapsed": false
   },
   "outputs": [
    {
     "name": "stdout",
     "output_type": "stream",
     "text": [
      "Probability = 0.956910569106\n",
      "\"Equivalent p-value\" = 0.0430894308943\n"
     ]
    },
    {
     "data": {
      "text/plain": [
       "0.91300813008130077"
      ]
     },
     "execution_count": 13,
     "metadata": {},
     "output_type": "execute_result"
    }
   ],
   "source": [
    "proba = np.mean(B_samples > A_samples)\n",
    "print('Probability = {}'.format(proba))\n",
    "\n",
    "print('\"Equivalent p-value\" = {}'.format(1-proba))\n",
    "\n",
    "np.mean(100.*(B_samples - A_samples)/A_samples > 5)"
   ]
  },
  {
   "cell_type": "markdown",
   "metadata": {},
   "source": [
    "References: \n",
    "\n",
    "http://www.evanmiller.org/bayesian-ab-testing.html\n",
    "\n",
    "http://engineering.richrelevance.com/bayesian-ab-tests/\n",
    "\n",
    "http://dogdogfish.com/ab-testing/bayesian-ab-testing-using-python/\n",
    "\n",
    "http://www.prenhall.com/behindthebook/0136149901/pdf/Levine_CH12.pdf"
   ]
  },
  {
   "cell_type": "code",
   "execution_count": null,
   "metadata": {
    "collapsed": true
   },
   "outputs": [],
   "source": []
  }
 ],
 "metadata": {
  "kernelspec": {
   "display_name": "Python 2",
   "language": "python",
   "name": "python2"
  },
  "language_info": {
   "codemirror_mode": {
    "name": "ipython",
    "version": 2
   },
   "file_extension": ".py",
   "mimetype": "text/x-python",
   "name": "python",
   "nbconvert_exporter": "python",
   "pygments_lexer": "ipython2",
   "version": "2.7.11"
  }
 },
 "nbformat": 4,
 "nbformat_minor": 0
}
