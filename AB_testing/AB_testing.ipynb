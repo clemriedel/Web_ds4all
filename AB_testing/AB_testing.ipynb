{
 "cells": [
  {
   "cell_type": "markdown",
   "metadata": {},
   "source": [
    "# \"A/B testing\" made simple for everyone.\n",
    "\n",
    "and: Z-test, chi-square, Beta distribution clean codes for programmers.\n",
    "\n",
    "##### Clement Riedel, July 2016\n"
   ]
  },
  {
   "cell_type": "markdown",
   "metadata": {},
   "source": [
    "You have two doors: one blue, one green. You want to know which one people are going to open. \n",
    "\n",
    "<img src=\"TwoDoors.png\">\n",
    "\n",
    "This is a metaphor. A/B testing is about predicting people's behavior and it does not matter if you think that they are opening a door, clicking on a button, registering to a website, putting an item in a basket or liking something... To make our study more concrete, we will consider the following case:\n",
    "\n",
    "*** You own a website and you want to know if users are more likely to \"register\" (click on a button to get in) if the website theme is blue or green. ***\n",
    "\n",
    "Let's design a very simple experiment. You are going to split the next 1000 users in half: 500 are going to view the blue website (Website A) while the other 500 are going to see the green one (Website B). We record the number of views and registration for each website."
   ]
  },
  {
   "cell_type": "code",
   "execution_count": 144,
   "metadata": {
    "collapsed": false
   },
   "outputs": [
    {
     "data": {
      "image/png": "[encoded data removed]",
      "text/plain": [
       "<matplotlib.figure.Figure at 0x116004d90>"
      ]
     },
     "metadata": {},
     "output_type": "display_data"
    }
   ],
   "source": [
    "# Website A (Blue):\n",
    "views_A = 503\n",
    "regs_A = 102\n",
    "\n",
    "# Website B (Green):\n",
    "views_B = 501\n",
    "regs_B = 125\n",
    "\n",
    "# Total number of views and registrations on both sites\n",
    "total = views_A + views_B + regs_A + regs_B\n",
    "\n",
    "#not_conv: Number of users who have not converted from view to registration.\n",
    "not_conv_A = views_A - regs_A \n",
    "not_conv_B = views_B - regs_B\n",
    "\n",
    "#Plot of the conversion rate (percent of users that do register after viewing the site)\n",
    "import seaborn as sns\n",
    "%matplotlib inline\n",
    "x = ['Website A', 'Website B']\n",
    "ax = sns.barplot(x, [regs_A/float(views_A), regs_B/float(views_B)])\n",
    "ax.set_title('Figure 1', fontsize=20)\n",
    "sns.axlabel('', 'Conversion rate')"
   ]
  },
  {
   "cell_type": "markdown",
   "metadata": {},
   "source": [
    "Well that's great: Website B is performing better than Website A, let's move on. Are you sure? There is way more information that we can obtain, such as: **What is the probability that Website B performs better than Website A just by chance?** (If you were to repeat the same experiment how confident are you would that you would observe the same trend?). These questions can be anwsered using classical statistics (Z-test and Chi-square). \n",
    "\n",
    "If you think that some events can be described with some 'degrees of belief', and are interested to know about how to quantify them, you should read up to the Bayesian part. We are going to draw distributions, we are going to make it simple. My goal is to share with you the idea that Figure 2 is more beautiful and informative than Figure 1."
   ]
  },
  {
   "cell_type": "markdown",
   "metadata": {},
   "source": [
    "# Z-test"
   ]
  },
  {
   "cell_type": "code",
   "execution_count": 145,
   "metadata": {
    "collapsed": false
   },
   "outputs": [
    {
     "name": "stdout",
     "output_type": "stream",
     "text": [
      "z-stat = -1.76940686107 \n",
      "p-value = 0.0384130007337\n"
     ]
    }
   ],
   "source": [
    "import numpy as np\n",
    "from statsmodels.stats.proportion import proportions_ztest\n",
    "\n",
    "views = np.array([views_A, views_B])\n",
    "regs = np.array([regs_A,regs_B])\n",
    "\n",
    "z,p = proportions_ztest(regs, views, value=0)\n",
    "print('z-stat = {} \\np-value = {}'.format(z, p/2))"
   ]
  },
  {
   "cell_type": "markdown",
   "metadata": {},
   "source": [
    "# Chi square"
   ]
  },
  {
   "cell_type": "code",
   "execution_count": 146,
   "metadata": {
    "collapsed": false
   },
   "outputs": [
    {
     "name": "stdout",
     "output_type": "stream",
     "text": [
      "p-value = 0.0384130007337\n"
     ]
    }
   ],
   "source": [
    "from scipy.stats import chi2_contingency\n",
    "chi2, p, dof, expected = chi2_contingency([[regs_A, not_conv_A], [regs_B, not_conv_B]], correction=False)\n",
    "print \"p-value =\", p/2"
   ]
  },
  {
   "cell_type": "markdown",
   "metadata": {},
   "source": [
    "# Bayesian inference, Beta distribution"
   ]
  },
  {
   "cell_type": "code",
   "execution_count": 147,
   "metadata": {
    "collapsed": false
   },
   "outputs": [
    {
     "name": "stdout",
     "output_type": "stream",
     "text": [
      "Probability = 0.968318440292\n"
     ]
    },
    {
     "data": {
      "text/plain": [
       "0.90414297319252646"
      ]
     },
     "execution_count": 147,
     "metadata": {},
     "output_type": "execute_result"
    }
   ],
   "source": [
    "from numpy.random import beta as beta_dist\n",
    "\n",
    "A_samples = beta_dist(regs_A, not_conv_A, total)\n",
    "B_samples = beta_dist(regs_B, not_conv_B, total)\n",
    "\n",
    "proba = np.mean(B_samples > A_samples)\n",
    "print('Probability = {}'.format(proba))\n",
    "\n",
    "np.mean(100.*(B_samples - A_samples)/A_samples > 5)"
   ]
  },
  {
   "cell_type": "code",
   "execution_count": 148,
   "metadata": {
    "collapsed": false
   },
   "outputs": [
    {
     "data": {
      "text/plain": [
       "0.20367491213439318"
      ]
     },
     "execution_count": 148,
     "metadata": {},
     "output_type": "execute_result"
    },
    {
     "data": {
      "image/png": "[encoded data removed]",
      "text/plain": [
       "<matplotlib.figure.Figure at 0x1156d6210>"
      ]
     },
     "metadata": {},
     "output_type": "display_data"
    }
   ],
   "source": [
    "ax = sns.distplot(A_samples)\n",
    "ax = sns.distplot(B_samples)\n",
    "ax.set_title('Figure 2', fontsize=20)\n",
    "sns.axlabel('Conversion rate', 'Probability')\n",
    "\n",
    "np.mean(A_samples)"
   ]
  },
  {
   "cell_type": "markdown",
   "metadata": {},
   "source": [
    "References: \n",
    "\n",
    "http://www.evanmiller.org/bayesian-ab-testing.html\n",
    "\n",
    "http://engineering.richrelevance.com/bayesian-ab-tests/\n",
    "\n",
    "http://dogdogfish.com/ab-testing/bayesian-ab-testing-using-python/\n",
    "\n",
    "http://www.prenhall.com/behindthebook/0136149901/pdf/Levine_CH12.pdf"
   ]
  },
  {
   "cell_type": "code",
   "execution_count": null,
   "metadata": {
    "collapsed": true
   },
   "outputs": [],
   "source": []
  }
 ],
 "metadata": {
  "kernelspec": {
   "display_name": "Python 2",
   "language": "python",
   "name": "python2"
  },
  "language_info": {
   "codemirror_mode": {
    "name": "ipython",
    "version": 2
   },
   "file_extension": ".py",
   "mimetype": "text/x-python",
   "name": "python",
   "nbconvert_exporter": "python",
   "pygments_lexer": "ipython2",
   "version": "2.7.11"
  }
 },
 "nbformat": 4,
 "nbformat_minor": 0
}
