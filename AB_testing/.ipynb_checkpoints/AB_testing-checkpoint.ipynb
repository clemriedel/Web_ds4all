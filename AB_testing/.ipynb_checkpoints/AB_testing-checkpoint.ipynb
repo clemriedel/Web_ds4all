{
 "cells": [
  {
   "cell_type": "markdown",
   "metadata": {},
   "source": [
    "# \"A/B testing\" made simple for everyone.\n",
    "\n",
    "##### Clement Riedel, July 2016\n"
   ]
  },
  {
   "cell_type": "markdown",
   "metadata": {},
   "source": [
    "You have two doors: one blue, one green. You want to know which one people are going to open. \n",
    "\n",
    "<img src=\"TwoDoors.png\">\n",
    "\n",
    "This is a metaphor. A/B testing is about predicting people's behavior and it does not matter if you think that people are opening a door, clicking on a button, registering to a website, putting an item in a basket or liking something... To make our study more concrete, we will consider the following case:\n",
    "\n",
    "*** You own a website and you want to know if users are more likely to \"register\" (click on a button to get in) if the website theme is blue or green ***\n",
    "\n",
    "Let's design a very simple experiments. You are going to send "
   ]
  },
  {
   "cell_type": "code",
   "execution_count": 4,
   "metadata": {
    "collapsed": false
   },
   "outputs": [
    {
     "data": {
      "image/png": "[encoded data removed]",
      "text/plain": [
       "<matplotlib.figure.Figure at 0x10cc675d0>"
      ]
     },
     "metadata": {},
     "output_type": "display_data"
    }
   ],
   "source": [
    "import numpy as np\n",
    "import seaborn as sns\n",
    "from numpy.random import beta as beta_dist\n",
    "%matplotlib inline\n",
    "\n",
    "# Website A (Blue):\n",
    "views_A = 614\n",
    "regs_A = 105\n",
    "conv_A = views_A - regs_A\n",
    "\n",
    "# Website B (Green):\n",
    "regs_B = 147\n",
    "views_B = 598\n",
    "conv_B = views_B - regs_B\n",
    "\n",
    "# Total view and registration on both sites\n",
    "total = regs_A + regs_B + views_A + views_B\n",
    "\n",
    "x = ['Website A', 'Website B']\n",
    "\n",
    "ax = sns.barplot(x, [regs_A/float(views_A), regs_B/float(views_B)])\n",
    "sns.axlabel('', 'Conversion rate')"
   ]
  },
  {
   "cell_type": "code",
   "execution_count": 118,
   "metadata": {
    "collapsed": false
   },
   "outputs": [
    {
     "data": {
      "text/plain": [
       "0.99931693989071035"
      ]
     },
     "execution_count": 118,
     "metadata": {},
     "output_type": "execute_result"
    }
   ],
   "source": [
    "A_samples = beta_dist(regs_A, conv_A, total)\n",
    "B_samples = beta_dist(regs_B, views_B - regs_B, total)\n",
    "\n",
    "np.mean(B_samples > A_samples)"
   ]
  },
  {
   "cell_type": "markdown",
   "metadata": {},
   "source": [
    "Estimated probability that SiteB performs better than SiteA = 0.99862448418156813\n",
    "\n",
    "We can say with confidence that SiteB is performing better than SiteA.\n",
    "  \n",
    "Math explanation: http://www.evanmiller.org/bayesian-ab-testing.html"
   ]
  },
  {
   "cell_type": "code",
   "execution_count": 119,
   "metadata": {
    "collapsed": false
   },
   "outputs": [
    {
     "name": "stdout",
     "output_type": "stream",
     "text": [
      "p-value: 0.000667049872921\n"
     ]
    }
   ],
   "source": [
    "from scipy.stats import chi2_contingency\n",
    "chi2, p, dof, expected = chi2_contingency([[regs_A, conv_A], [regs_B, conv_B]], correction=False)\n",
    "print \"p-value:\", p/2"
   ]
  },
  {
   "cell_type": "code",
   "execution_count": 120,
   "metadata": {
    "collapsed": false
   },
   "outputs": [
    {
     "name": "stdout",
     "output_type": "stream",
     "text": [
      " z-stat = -3.20854167166 \n",
      " p-value = 0.000667049872921\n"
     ]
    }
   ],
   "source": [
    "from statsmodels.stats.proportion import proportions_ztest\n",
    "\n",
    "regs = np.array([regs_A,regs_B])\n",
    "views = np.array([views_A, views_B])\n",
    "\n",
    "z,p = proportions_ztest(regs, views, value=0)\n",
    "print(' z-stat = {z} \\n p-value = {p}'.format(z=z,p=p/2))"
   ]
  },
  {
   "cell_type": "code",
   "execution_count": null,
   "metadata": {
    "collapsed": true
   },
   "outputs": [],
   "source": []
  },
  {
   "cell_type": "code",
   "execution_count": null,
   "metadata": {
    "collapsed": true
   },
   "outputs": [],
   "source": []
  },
  {
   "cell_type": "code",
   "execution_count": null,
   "metadata": {
    "collapsed": true
   },
   "outputs": [],
   "source": []
  },
  {
   "cell_type": "code",
   "execution_count": null,
   "metadata": {
    "collapsed": true
   },
   "outputs": [],
   "source": []
  }
 ],
 "metadata": {
  "kernelspec": {
   "display_name": "Python 2",
   "language": "python",
   "name": "python2"
  },
  "language_info": {
   "codemirror_mode": {
    "name": "ipython",
    "version": 2
   },
   "file_extension": ".py",
   "mimetype": "text/x-python",
   "name": "python",
   "nbconvert_exporter": "python",
   "pygments_lexer": "ipython2",
   "version": "2.7.11"
  }
 },
 "nbformat": 4,
 "nbformat_minor": 0
}
