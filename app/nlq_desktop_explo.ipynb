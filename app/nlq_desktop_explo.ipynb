{
 "cells": [
  {
   "cell_type": "code",
   "execution_count": 3,
   "metadata": {
    "collapsed": false
   },
   "outputs": [
    {
     "name": "stdout",
     "output_type": "stream",
     "text": [
      "Topic 1: ion propertie student cluster experiment agent anion system\n",
      "Topic 2: reaction synthesi compound bond method intermediate acces catalysi\n",
      "Topic 3: student system method material analysi application tool aspect\n",
      "Topic 4: student activitie teacher career component support goal school\n",
      "Topic 5: area studie material molecule chemist student atom acces\n",
      "Topic 6: complexe ligand compound synthesi group student catalyst specie\n",
      "Topic 7: result studie structure variou compound aspect mechanism activitie\n",
      "Topic 8: dynamic mechanism student liquid studie system interaction opportunitie\n",
      "Topic 9: group student researcher investigator method scientist chemical u\n",
      "Topic 10: method model system tool dynamic approache processe molecule\n",
      "Topic 11: dynamic model simulation technique method tool motion experiment\n",
      "Topic 12: polymer material propertie synthesi student application impact plastic\n",
      "Topic 13: proces molecule provide measurement signal substance sensor kinetic\n",
      "Topic 14: reaction molecule dynamic mechanism studie student specie experiment\n",
      "Topic 15: student activitie group focuse support aim variou effort\n",
      "Topic 16: nanoparticle propertie student particle nanomaterial application material nanostructure\n",
      "Topic 17: material cell film surface application researcher variou device\n",
      "Topic 18: material propertie activitie nanocrystal aim dye involve electron\n",
      "Topic 19: surface aqueou propertie mechanism interface science effect studie\n",
      "Topic 20: mas analysi student method ion sample specie m\n",
      "Topic 21: enzyme processe student undergraduate studie experiment role site\n",
      "Topic 22: protein processe student studie insight assemblie system function\n",
      "Topic 23: catalyst catalysi student reaction metal processe studie impact\n",
      "Topic 24: molecule interaction propertie cluster studie effect impact structure\n",
      "Topic 25: reaction ga bond processe fuel catalysi rate kinetic\n",
      "Topic 26: protein molecule structure tool processe approache method interaction\n",
      "Topic 27: structure student propertie molecule application material system studie\n",
      "Topic 28: method material proces addres challenge processe strategie scientist\n",
      "Topic 29: student undergraduate participant project opportunitie support institution experience\n",
      "Topic 30: synthesi method student reaction strategie product compound molecule\n"
     ]
    }
   ],
   "source": [
    "from __future__ import print_function\n",
    "import pandas as pd\n",
    "from nltk.stem.porter import PorterStemmer\n",
    "from nltk.corpus import stopwords\n",
    "from nltk.tokenize import word_tokenize\n",
    "import matplotlib.pyplot as plt\n",
    "import csv\n",
    "import numpy as np\n",
    "import pandas as pd\n",
    "import seaborn as sns\n",
    "import textmining\n",
    "import lda\n",
    "import textmining\n",
    "import nltk.corpus\n",
    "import os\n",
    "\n",
    "\n",
    "#a = 'uploads/NSF_Bio_2015.csv'\n",
    "#a = 'uploads/NSF_plasma.csv'\n",
    "#a = 'uploads/NSF_Phy_2013.csv'\n",
    "#a = 'uploads/NSF_Chem_2013.csv'\n",
    "\n",
    "a = 'uploads/NSF_Chem_2013.csv'\n",
    "\n",
    "prev_num = 0\n",
    "for f in os.listdir('static'):\n",
    "\tif f[0:4] == 'hist':\n",
    "\t\tnum = int(f.split('_')[-1].split('.')[0])\n",
    "\t\tif num > prev_num:\n",
    "\t\t\tprev_num = num\n",
    "f_name = 'hist_{}.png'.format(prev_num+1)\n",
    "\n",
    "with open(a) as f:\n",
    "\tHeader = f.next().split(',')\n",
    "number_name = Header[0]\n",
    "text_name = Header[1][:-2]\n",
    "\n",
    "#Read the input file\n",
    "input_file = csv.DictReader(open(a))\n",
    "\n",
    "text = []\n",
    "number = []\n",
    "\n",
    "for row in input_file:\n",
    "    number.append(row[number_name])\n",
    "    text.append(row[text_name])\n",
    "\n",
    "d = len(text)\n",
    "n_topics = 30\n",
    "\n",
    "text_stop = []\n",
    "stop = set(stopwords.words('english'))\n",
    "stop |= {'new', 'made', 'use'}\n",
    "\n",
    "for i in range(len(text)):\n",
    "    sentence = text[i].lower()\n",
    "    A = [i for i in sentence.replace('<br/>',' ').split() if i not in stop]\n",
    "    A = [i[:-1] for i in A  if i[-1] == 's']\n",
    "    text_stop.append(' '.join(A))\n",
    "\n",
    "tdm = textmining.TermDocumentMatrix()\n",
    "\n",
    "for i in range(d):\n",
    "    tdm.add_doc(text_stop[i])\n",
    "\n",
    "# # create a temp variable with doc-term info\n",
    "temp = list(tdm.rows(cutoff=1))\n",
    "\n",
    "# get the vocab from first row\n",
    "vocab = tuple(temp[0])\n",
    "\n",
    "# # get document-term matrix from remaining rows\n",
    "X = np.array(temp[1:])\n",
    "\n",
    "\n",
    "#tdm.write_csv('matrix.csv', cutoff=1)\n",
    "topics = []\n",
    "\n",
    "model = lda.LDA(n_topics, n_iter=500, random_state=1)\n",
    "model.fit(X)  # model.fit_transform(X) is also available\n",
    "topic_word = model.topic_word_  # model.components_ also works\n",
    "n_top_words = 8\n",
    "for i, topic_dist in enumerate(topic_word):\n",
    "    topic_words = np.array(vocab)[np.argsort(topic_dist)][:-(n_top_words+1):-1]\n",
    "    topics.append('Topic {}: {}'.format(i+1, ' '.join(topic_words)))\n",
    "    print('Topic {}: {}'.format(i+1, ' '.join(topic_words)))\n",
    "\n",
    "# get results\n",
    "topic_word = model.topic_word_ \n",
    "doc_topic = model.doc_topic_\n",
    "\n"
   ]
  },
  {
   "cell_type": "code",
   "execution_count": 4,
   "metadata": {
    "collapsed": true
   },
   "outputs": [],
   "source": [
    "with open('static/topic_table', 'w') as f:\n",
    "    # create header\n",
    "    #header = 'document'\n",
    "    #for k in range(n_topics):\n",
    "    #   header += ', pr_topic_{}'.format(k)\n",
    "    #f.write(header + '\\n')\n",
    "\n",
    "    # write one row for each document\n",
    "    # col 1 : document number\n",
    "    # cols 2 -- : topic probabilities\n",
    "    for k in range(d):\n",
    "        # format probabilities into string\n",
    "        str_probs = ','.join(['{:.5e}'.format(pr) for pr in doc_topic[k,:]])\n",
    "        # write line to file\n",
    "        #f.write('{}, {}\\n'.format(k, str_probs))\n",
    "        f.write('{}\\n'.format(str_probs))\n",
    "\n",
    "\t\t\n",
    "dat = np.genfromtxt ('static/topic_table', delimiter=\",\")\n",
    "\n",
    "M = []\n",
    "for i in range(len(number)):\n",
    "\t\tM.append(dat[i,:]*float(number[i]))\n",
    "\n",
    "M = sum(M)\n",
    "Total = sum(M)\n",
    "\n",
    "x=np.arange(1, n_topics+1, 1)\n",
    "y=M\n",
    "\n",
    "ax = sns.barplot(x, y, color='Blue')\n",
    "ax.set(xlabel='Topics', ylabel=number_name)\n",
    "ax.set_title('Total: {} {}'.format(int(Total), number_name))\n",
    "num = 1\n",
    "sns.plt.show()\n",
    "\n",
    "\n",
    "\n",
    "\n",
    "\n",
    "\n"
   ]
  },
  {
   "cell_type": "code",
   "execution_count": 7,
   "metadata": {
    "collapsed": false
   },
   "outputs": [],
   "source": [
    "for k in range(d):\n",
    "    str_probs = [pr for pr in doc_topic[k,:]]"
   ]
  },
  {
   "cell_type": "code",
   "execution_count": 8,
   "metadata": {
    "collapsed": false
   },
   "outputs": [
    {
     "data": {
      "text/plain": [
       "array([ 0.0012987 ,  0.07922078,  0.0012987 ,  0.01428571,  0.0012987 ,\n",
       "        0.01428571,  0.0012987 ,  0.0012987 ,  0.0012987 ,  0.0012987 ,\n",
       "        0.11818182,  0.0012987 ,  0.04025974,  0.0012987 ,  0.0012987 ,\n",
       "        0.01428571,  0.04025974,  0.0012987 ,  0.01428571,  0.18311688,\n",
       "        0.0012987 ,  0.0012987 ,  0.0012987 ,  0.01428571,  0.0012987 ,\n",
       "        0.42987013,  0.0012987 ,  0.0012987 ,  0.0012987 ,  0.01428571])"
      ]
     },
     "execution_count": 8,
     "metadata": {},
     "output_type": "execute_result"
    }
   ],
   "source": [
    "doc_topic[1,:]"
   ]
  },
  {
   "cell_type": "code",
   "execution_count": null,
   "metadata": {
    "collapsed": true
   },
   "outputs": [],
   "source": []
  }
 ],
 "metadata": {
  "kernelspec": {
   "display_name": "Python 2",
   "language": "python",
   "name": "python2"
  },
  "language_info": {
   "codemirror_mode": {
    "name": "ipython",
    "version": 2
   },
   "file_extension": ".py",
   "mimetype": "text/x-python",
   "name": "python",
   "nbconvert_exporter": "python",
   "pygments_lexer": "ipython2",
   "version": "2.7.11"
  }
 },
 "nbformat": 4,
 "nbformat_minor": 0
}
