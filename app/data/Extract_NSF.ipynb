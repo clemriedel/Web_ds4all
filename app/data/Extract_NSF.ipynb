{
 "cells": [
  {
   "cell_type": "code",
   "execution_count": 15,
   "metadata": {
    "collapsed": false
   },
   "outputs": [],
   "source": [
    "import csv\n",
    "import pandas as pd"
   ]
  },
  {
   "cell_type": "code",
   "execution_count": 16,
   "metadata": {
    "collapsed": false
   },
   "outputs": [],
   "source": [
    "input_file = csv.DictReader(open(\"NSF_politics_full.csv\"))\n",
    "\n",
    "text = [] \n",
    "number = []\n",
    "\n",
    "for row in input_file:\n",
    "    text.append(row[\"Abstract\"])\n",
    "    number.append(row[\"AwardedAmountToDate\"])\n",
    "\n",
    "number_cleaned=[]\n",
    "for amount in number: \n",
    "    number_cleaned.append(float(\n",
    "            str(amount).replace(\"$\", \"\").replace(\",\", \"\").replace(\".00\", \"\")\n",
    "                                )/1e6\n",
    "                          )\n",
    "df = pd.DataFrame({'M$':number_cleaned, 'Politics':text})\n",
    "\n",
    "df.to_csv('NSF_politics.csv')"
   ]
  },
  {
   "cell_type": "code",
   "execution_count": 17,
   "metadata": {
    "collapsed": false
   },
   "outputs": [],
   "source": [
    "data = pd.read_csv(\"NSF_politics.csv\")"
   ]
  },
  {
   "cell_type": "code",
   "execution_count": 18,
   "metadata": {
    "collapsed": false
   },
   "outputs": [
    {
     "data": {
      "text/html": [
       "<div>\n",
       "<table border=\"1\" class=\"dataframe\">\n",
       "  <thead>\n",
       "    <tr style=\"text-align: right;\">\n",
       "      <th></th>\n",
       "      <th>Unnamed: 0</th>\n",
       "      <th>M$</th>\n",
       "      <th>Politics</th>\n",
       "    </tr>\n",
       "  </thead>\n",
       "  <tbody>\n",
       "    <tr>\n",
       "      <th>0</th>\n",
       "      <td>0</td>\n",
       "      <td>0.033972</td>\n",
       "      <td>This project investigates the relationship bet...</td>\n",
       "    </tr>\n",
       "    <tr>\n",
       "      <th>1</th>\n",
       "      <td>1</td>\n",
       "      <td>0.149975</td>\n",
       "      <td>The goal of this project is to better understa...</td>\n",
       "    </tr>\n",
       "    <tr>\n",
       "      <th>2</th>\n",
       "      <td>2</td>\n",
       "      <td>0.063223</td>\n",
       "      <td>Scholars from a wide variety of disciplines in...</td>\n",
       "    </tr>\n",
       "    <tr>\n",
       "      <th>3</th>\n",
       "      <td>3</td>\n",
       "      <td>0.017577</td>\n",
       "      <td>This award satisfies Division B, Title V, Sec....</td>\n",
       "    </tr>\n",
       "    <tr>\n",
       "      <th>4</th>\n",
       "      <td>4</td>\n",
       "      <td>0.012000</td>\n",
       "      <td>This Dissertation Improvement Grant in the His...</td>\n",
       "    </tr>\n",
       "  </tbody>\n",
       "</table>\n",
       "</div>"
      ],
      "text/plain": [
       "   Unnamed: 0        M$                                           Politics\n",
       "0           0  0.033972  This project investigates the relationship bet...\n",
       "1           1  0.149975  The goal of this project is to better understa...\n",
       "2           2  0.063223  Scholars from a wide variety of disciplines in...\n",
       "3           3  0.017577  This award satisfies Division B, Title V, Sec....\n",
       "4           4  0.012000  This Dissertation Improvement Grant in the His..."
      ]
     },
     "execution_count": 18,
     "metadata": {},
     "output_type": "execute_result"
    }
   ],
   "source": [
    "data.head()"
   ]
  },
  {
   "cell_type": "code",
   "execution_count": null,
   "metadata": {
    "collapsed": true
   },
   "outputs": [],
   "source": []
  }
 ],
 "metadata": {
  "kernelspec": {
   "display_name": "Python 2",
   "language": "python",
   "name": "python2"
  },
  "language_info": {
   "codemirror_mode": {
    "name": "ipython",
    "version": 2
   },
   "file_extension": ".py",
   "mimetype": "text/x-python",
   "name": "python",
   "nbconvert_exporter": "python",
   "pygments_lexer": "ipython2",
   "version": "2.7.11"
  }
 },
 "nbformat": 4,
 "nbformat_minor": 0
}
