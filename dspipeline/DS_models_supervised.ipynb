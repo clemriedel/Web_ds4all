{
 "cells": [
  {
   "cell_type": "markdown",
   "metadata": {},
   "source": [
    "# Supervised learning\n",
    "### A dot of EDA, logistic regression, random forest and gradient boosting.\n",
    "\n",
    "#### Clement Riedel, July 2016\n",
    "\n",
    "Welcome the ds4all.io notebook about supervised learning. Here I will demonstrate how to use logistic regression, random forest and gradient boosting to learn and predict information on a real dataset related to telecom information. This notebook aims to be a reference on how to perfrom a supervised data science study. Feel free to use part or the whole notebook for yor own study.\n",
    "\n",
    "(If you are coming from the [ds4all.io/pipeline](http://ds4all.io/pipeline)  and are wondering why we are not working with the fraud data: it is because the dataset is private.)\n",
    "\n",
    "*Note: This study is presented on a jupyter notebook for its convenience in the display of contents; if you are developing a project we strongly advise to switch to a text editor after the Exploratory Data Analysis.*\n",
    "\n"
   ]
  },
  {
   "cell_type": "markdown",
   "metadata": {},
   "source": [
    "## Exploratory Data Analysis (EDA)"
   ]
  },
  {
   "cell_type": "code",
   "execution_count": 1,
   "metadata": {
    "collapsed": false,
    "scrolled": true
   },
   "outputs": [
    {
     "name": "stdout",
     "output_type": "stream",
     "text": [
      "Populating the interactive namespace from numpy and matplotlib\n"
     ]
    }
   ],
   "source": [
    "# Import numpy, pandas\n",
    "import numpy as np\n",
    "import pandas as pd\n",
    "%pylab inline"
   ]
  },
  {
   "cell_type": "code",
   "execution_count": 2,
   "metadata": {
    "collapsed": false
   },
   "outputs": [],
   "source": [
    "# Read the csv file and store it in a panda data frame. \n",
    "# The data is available at github.com/clemriedel/ds4all/supervised_learning\n",
    "df = pd.read_csv('telecom_churn.csv')"
   ]
  },
  {
   "cell_type": "code",
   "execution_count": 3,
   "metadata": {
    "collapsed": false
   },
   "outputs": [
    {
     "name": "stdout",
     "output_type": "stream",
     "text": [
      "The dataset contains 3333 observations and 21 features.\n"
     ]
    }
   ],
   "source": [
    "# Shape of the dataset\n",
    "shape(df)\n",
    "print \"The dataset contains {} observations and {} features.\".format(shape(df)[0],shape(df)[1])"
   ]
  },
  {
   "cell_type": "code",
   "execution_count": 4,
   "metadata": {
    "collapsed": false
   },
   "outputs": [
    {
     "name": "stdout",
     "output_type": "stream",
     "text": [
      "<class 'pandas.core.frame.DataFrame'>\n",
      "RangeIndex: 3333 entries, 0 to 3332\n",
      "Data columns (total 21 columns):\n",
      "State             3333 non-null object\n",
      "Account Length    3333 non-null int64\n",
      "Area Code         3333 non-null int64\n",
      "Phone             3333 non-null object\n",
      "Int'l Plan        3333 non-null object\n",
      "VMail Plan        3333 non-null object\n",
      "VMail Message     3333 non-null int64\n",
      "Day Mins          3333 non-null float64\n",
      "Day Calls         3333 non-null int64\n",
      "Day Charge        3333 non-null float64\n",
      "Eve Mins          3333 non-null float64\n",
      "Eve Calls         3333 non-null int64\n",
      "Eve Charge        3333 non-null float64\n",
      "Night Mins        3333 non-null float64\n",
      "Night Calls       3333 non-null int64\n",
      "Night Charge      3333 non-null float64\n",
      "Intl Mins         3333 non-null float64\n",
      "Intl Calls        3333 non-null int64\n",
      "Intl Charge       3333 non-null float64\n",
      "CustServ Calls    3333 non-null int64\n",
      "Churn?            3333 non-null object\n",
      "dtypes: float64(8), int64(8), object(5)\n",
      "memory usage: 546.9+ KB\n"
     ]
    }
   ],
   "source": [
    "# Info: Features names, types and missing values\n",
    "df.info()"
   ]
  },
  {
   "cell_type": "code",
   "execution_count": 5,
   "metadata": {
    "collapsed": false
   },
   "outputs": [
    {
     "data": {
      "text/html": [
       "<div>\n",
       "<table border=\"1\" class=\"dataframe\">\n",
       "  <thead>\n",
       "    <tr style=\"text-align: right;\">\n",
       "      <th></th>\n",
       "      <th>State</th>\n",
       "      <th>Account Length</th>\n",
       "      <th>Area Code</th>\n",
       "      <th>Phone</th>\n",
       "      <th>Int'l Plan</th>\n",
       "      <th>VMail Plan</th>\n",
       "      <th>VMail Message</th>\n",
       "      <th>Day Mins</th>\n",
       "      <th>Day Calls</th>\n",
       "      <th>Day Charge</th>\n",
       "      <th>...</th>\n",
       "      <th>Eve Calls</th>\n",
       "      <th>Eve Charge</th>\n",
       "      <th>Night Mins</th>\n",
       "      <th>Night Calls</th>\n",
       "      <th>Night Charge</th>\n",
       "      <th>Intl Mins</th>\n",
       "      <th>Intl Calls</th>\n",
       "      <th>Intl Charge</th>\n",
       "      <th>CustServ Calls</th>\n",
       "      <th>Churn?</th>\n",
       "    </tr>\n",
       "  </thead>\n",
       "  <tbody>\n",
       "    <tr>\n",
       "      <th>0</th>\n",
       "      <td>KS</td>\n",
       "      <td>128</td>\n",
       "      <td>415</td>\n",
       "      <td>382-4657</td>\n",
       "      <td>no</td>\n",
       "      <td>yes</td>\n",
       "      <td>25</td>\n",
       "      <td>265.1</td>\n",
       "      <td>110</td>\n",
       "      <td>45.07</td>\n",
       "      <td>...</td>\n",
       "      <td>99</td>\n",
       "      <td>16.78</td>\n",
       "      <td>244.7</td>\n",
       "      <td>91</td>\n",
       "      <td>11.01</td>\n",
       "      <td>10.0</td>\n",
       "      <td>3</td>\n",
       "      <td>2.70</td>\n",
       "      <td>1</td>\n",
       "      <td>False.</td>\n",
       "    </tr>\n",
       "    <tr>\n",
       "      <th>1</th>\n",
       "      <td>OH</td>\n",
       "      <td>107</td>\n",
       "      <td>415</td>\n",
       "      <td>371-7191</td>\n",
       "      <td>no</td>\n",
       "      <td>yes</td>\n",
       "      <td>26</td>\n",
       "      <td>161.6</td>\n",
       "      <td>123</td>\n",
       "      <td>27.47</td>\n",
       "      <td>...</td>\n",
       "      <td>103</td>\n",
       "      <td>16.62</td>\n",
       "      <td>254.4</td>\n",
       "      <td>103</td>\n",
       "      <td>11.45</td>\n",
       "      <td>13.7</td>\n",
       "      <td>3</td>\n",
       "      <td>3.70</td>\n",
       "      <td>1</td>\n",
       "      <td>False.</td>\n",
       "    </tr>\n",
       "    <tr>\n",
       "      <th>2</th>\n",
       "      <td>NJ</td>\n",
       "      <td>137</td>\n",
       "      <td>415</td>\n",
       "      <td>358-1921</td>\n",
       "      <td>no</td>\n",
       "      <td>no</td>\n",
       "      <td>0</td>\n",
       "      <td>243.4</td>\n",
       "      <td>114</td>\n",
       "      <td>41.38</td>\n",
       "      <td>...</td>\n",
       "      <td>110</td>\n",
       "      <td>10.30</td>\n",
       "      <td>162.6</td>\n",
       "      <td>104</td>\n",
       "      <td>7.32</td>\n",
       "      <td>12.2</td>\n",
       "      <td>5</td>\n",
       "      <td>3.29</td>\n",
       "      <td>0</td>\n",
       "      <td>False.</td>\n",
       "    </tr>\n",
       "    <tr>\n",
       "      <th>3</th>\n",
       "      <td>OH</td>\n",
       "      <td>84</td>\n",
       "      <td>408</td>\n",
       "      <td>375-9999</td>\n",
       "      <td>yes</td>\n",
       "      <td>no</td>\n",
       "      <td>0</td>\n",
       "      <td>299.4</td>\n",
       "      <td>71</td>\n",
       "      <td>50.90</td>\n",
       "      <td>...</td>\n",
       "      <td>88</td>\n",
       "      <td>5.26</td>\n",
       "      <td>196.9</td>\n",
       "      <td>89</td>\n",
       "      <td>8.86</td>\n",
       "      <td>6.6</td>\n",
       "      <td>7</td>\n",
       "      <td>1.78</td>\n",
       "      <td>2</td>\n",
       "      <td>False.</td>\n",
       "    </tr>\n",
       "    <tr>\n",
       "      <th>4</th>\n",
       "      <td>OK</td>\n",
       "      <td>75</td>\n",
       "      <td>415</td>\n",
       "      <td>330-6626</td>\n",
       "      <td>yes</td>\n",
       "      <td>no</td>\n",
       "      <td>0</td>\n",
       "      <td>166.7</td>\n",
       "      <td>113</td>\n",
       "      <td>28.34</td>\n",
       "      <td>...</td>\n",
       "      <td>122</td>\n",
       "      <td>12.61</td>\n",
       "      <td>186.9</td>\n",
       "      <td>121</td>\n",
       "      <td>8.41</td>\n",
       "      <td>10.1</td>\n",
       "      <td>3</td>\n",
       "      <td>2.73</td>\n",
       "      <td>3</td>\n",
       "      <td>False.</td>\n",
       "    </tr>\n",
       "  </tbody>\n",
       "</table>\n",
       "<p>5 rows × 21 columns</p>\n",
       "</div>"
      ],
      "text/plain": [
       "  State  Account Length  Area Code     Phone Int'l Plan VMail Plan  \\\n",
       "0    KS             128        415  382-4657         no        yes   \n",
       "1    OH             107        415  371-7191         no        yes   \n",
       "2    NJ             137        415  358-1921         no         no   \n",
       "3    OH              84        408  375-9999        yes         no   \n",
       "4    OK              75        415  330-6626        yes         no   \n",
       "\n",
       "   VMail Message  Day Mins  Day Calls  Day Charge   ...    Eve Calls  \\\n",
       "0             25     265.1        110       45.07   ...           99   \n",
       "1             26     161.6        123       27.47   ...          103   \n",
       "2              0     243.4        114       41.38   ...          110   \n",
       "3              0     299.4         71       50.90   ...           88   \n",
       "4              0     166.7        113       28.34   ...          122   \n",
       "\n",
       "   Eve Charge  Night Mins  Night Calls  Night Charge  Intl Mins  Intl Calls  \\\n",
       "0       16.78       244.7           91         11.01       10.0           3   \n",
       "1       16.62       254.4          103         11.45       13.7           3   \n",
       "2       10.30       162.6          104          7.32       12.2           5   \n",
       "3        5.26       196.9           89          8.86        6.6           7   \n",
       "4       12.61       186.9          121          8.41       10.1           3   \n",
       "\n",
       "   Intl Charge  CustServ Calls  Churn?  \n",
       "0         2.70               1  False.  \n",
       "1         3.70               1  False.  \n",
       "2         3.29               0  False.  \n",
       "3         1.78               2  False.  \n",
       "4         2.73               3  False.  \n",
       "\n",
       "[5 rows x 21 columns]"
      ]
     },
     "execution_count": 5,
     "metadata": {},
     "output_type": "execute_result"
    }
   ],
   "source": [
    "# Overview of the data first elements.\n",
    "df.head()"
   ]
  },
  {
   "cell_type": "markdown",
   "metadata": {
    "collapsed": true
   },
   "source": [
    "#### Missing values\n",
    "In the info, we see that we do not have missing values (all the features have 3333 values). (If I do have missing values, I can drop columns with too many of them; keep track of how many are missing and replace them by the mean or drop them.)  We can only deal with numbers so State should be \"dummified\" if we want to include it in the study."
   ]
  },
  {
   "cell_type": "markdown",
   "metadata": {},
   "source": [
    "#### Dummification\n",
    "Dummification works as follows: We replace the one column state by 51 columns, one for each state. The observation will have fifty 0 and one 1 for the corresponding states. Dummification works great for a small number of features. For this study: We provide the code but choose not to dummify States and drop the column."
   ]
  },
  {
   "cell_type": "code",
   "execution_count": 6,
   "metadata": {
    "collapsed": false
   },
   "outputs": [
    {
     "data": {
      "text/plain": [
       "51"
      ]
     },
     "execution_count": 6,
     "metadata": {},
     "output_type": "execute_result"
    }
   ],
   "source": [
    "len(df.State.unique())"
   ]
  },
  {
   "cell_type": "code",
   "execution_count": 7,
   "metadata": {
    "collapsed": false
   },
   "outputs": [
    {
     "data": {
      "text/plain": [
       "(3333, 71)"
      ]
     },
     "execution_count": 7,
     "metadata": {},
     "output_type": "execute_result"
    }
   ],
   "source": [
    "df_states = pd.get_dummies(df['State'])\n",
    "frames = [df, df_states]\n",
    "df_dummy = pd.concat(frames, axis=1)\n",
    "df_dummy.drop('State', axis=1, inplace=True)\n",
    "shape(df_dummy) #We see in the shape that the 51 states have been added as new columns."
   ]
  },
  {
   "cell_type": "markdown",
   "metadata": {},
   "source": [
    "#### Back to our study: \n",
    "Phone number is not judged to be a predictive feature: we will drop this column. As previously explained, we also drop State. We make sure we only have numbers in our database."
   ]
  },
  {
   "cell_type": "code",
   "execution_count": 8,
   "metadata": {
    "collapsed": false
   },
   "outputs": [],
   "source": [
    "df.drop(['State', 'Phone'], axis=1, inplace=True)\n",
    "df = df.replace(['yes', 'no'], [1, 0])\n",
    "df = df.replace(['True.', 'False.'], [True, False]) \n",
    "#Pandas deals with True and False as 1 and 0, but we still need to remove the dots."
   ]
  },
  {
   "cell_type": "markdown",
   "metadata": {},
   "source": [
    "#### Finally, we obtain our 'y' and the matrix of features X"
   ]
  },
  {
   "cell_type": "code",
   "execution_count": 9,
   "metadata": {
    "collapsed": false
   },
   "outputs": [],
   "source": [
    "y = df.pop('Churn?')\n",
    "X = df"
   ]
  },
  {
   "cell_type": "markdown",
   "metadata": {},
   "source": [
    "# Modeling"
   ]
  },
  {
   "cell_type": "code",
   "execution_count": 10,
   "metadata": {
    "collapsed": true
   },
   "outputs": [],
   "source": [
    "# Import basic modules from sklearn\n",
    "from sklearn.cross_validation import train_test_split\n",
    "from sklearn.cross_validation import cross_val_score\n",
    "from sklearn.metrics import *"
   ]
  },
  {
   "cell_type": "markdown",
   "metadata": {},
   "source": [
    "#### Train / test split\n",
    "Sklearn permits to split the sample into a training and testing set.The testing set is always composed of 'previously unseen' observation in my studies. I choose 70% of the data as training set and 30% as 'keep unseen for testing'."
   ]
  },
  {
   "cell_type": "code",
   "execution_count": 11,
   "metadata": {
    "collapsed": true
   },
   "outputs": [],
   "source": [
    "X_train, X_test, y_train, y_test = train_test_split(X, y, test_size=0.3, random_state=0)"
   ]
  },
  {
   "cell_type": "markdown",
   "metadata": {},
   "source": [
    "## Logistic regression"
   ]
  },
  {
   "cell_type": "code",
   "execution_count": 12,
   "metadata": {
    "collapsed": true
   },
   "outputs": [],
   "source": [
    "from sklearn.linear_model import LogisticRegression"
   ]
  },
  {
   "cell_type": "code",
   "execution_count": 13,
   "metadata": {
    "collapsed": false
   },
   "outputs": [
    {
     "data": {
      "text/plain": [
       "LogisticRegression(C=1.0, class_weight=None, dual=False, fit_intercept=True,\n",
       "          intercept_scaling=1, max_iter=100, multi_class='ovr', n_jobs=1,\n",
       "          penalty='l2', random_state=None, solver='liblinear', tol=0.0001,\n",
       "          verbose=0, warm_start=False)"
      ]
     },
     "execution_count": 13,
     "metadata": {},
     "output_type": "execute_result"
    }
   ],
   "source": [
    "logreg = LogisticRegression() # Instantiate the model\n",
    "logreg.fit(X_train, y_train) # Fit to the training dataset."
   ]
  },
  {
   "cell_type": "markdown",
   "metadata": {},
   "source": [
    "### Confusion matrix and metrics"
   ]
  },
  {
   "cell_type": "code",
   "execution_count": 14,
   "metadata": {
    "collapsed": false
   },
   "outputs": [
    {
     "data": {
      "text/plain": [
       "array([[843,  19],\n",
       "       [112,  26]])"
      ]
     },
     "execution_count": 14,
     "metadata": {},
     "output_type": "execute_result"
    }
   ],
   "source": [
    "# sklearn can calculate the confusion matrix\n",
    "conf_mat = confusion_matrix(y_test, logreg.predict(X_test))\n",
    "conf_mat"
   ]
  },
  {
   "cell_type": "code",
   "execution_count": 15,
   "metadata": {
    "collapsed": false
   },
   "outputs": [
    {
     "name": "stdout",
     "output_type": "stream",
     "text": [
      "*** Logistic regression - confusion matrix ***\n"
     ]
    },
    {
     "data": {
      "text/html": [
       "<div>\n",
       "<table border=\"1\" class=\"dataframe\">\n",
       "  <thead>\n",
       "    <tr style=\"text-align: right;\">\n",
       "      <th>Predicted</th>\n",
       "      <th>False</th>\n",
       "      <th>True</th>\n",
       "    </tr>\n",
       "    <tr>\n",
       "      <th>Actual</th>\n",
       "      <th></th>\n",
       "      <th></th>\n",
       "    </tr>\n",
       "  </thead>\n",
       "  <tbody>\n",
       "    <tr>\n",
       "      <th>False</th>\n",
       "      <td>843</td>\n",
       "      <td>19</td>\n",
       "    </tr>\n",
       "    <tr>\n",
       "      <th>True</th>\n",
       "      <td>112</td>\n",
       "      <td>26</td>\n",
       "    </tr>\n",
       "  </tbody>\n",
       "</table>\n",
       "</div>"
      ],
      "text/plain": [
       "Predicted  False  True \n",
       "Actual                 \n",
       "False        843     19\n",
       "True         112     26"
      ]
     },
     "execution_count": 15,
     "metadata": {},
     "output_type": "execute_result"
    }
   ],
   "source": [
    "# Same thing, easier to read:\n",
    "print \"*** Logistic regression - confusion matrix ***\"\n",
    "logreg_res = pd.DataFrame(zip(logreg.predict(X_test), y_test), columns=[\"Predicted\",\"Actual\"])\n",
    "pd.crosstab(logreg_res.Actual, logreg_res.Predicted)"
   ]
  },
  {
   "cell_type": "markdown",
   "metadata": {},
   "source": [
    "**Let's take a second here to detail how to read the confusion matrix** . We split our 3333 intial obseervations into of about 2333 to train and 1000 as unseen (the sum of the four numbers in the confusion matrix). On this 1000 observations 862 (the sum of the first line) were False: they did not lead to a churn. We correctly predict 842 while 20 where predicted as churn while they were not. (You can apply the same for the Actual True).\n",
    "\n",
    "**There are a lot of metrics to evaluate your model:** you may know the accuracy (correct predictions divided by all the predictions, aka 'how many times your model right\". We can also use recall and precision."
   ]
  },
  {
   "cell_type": "code",
   "execution_count": 16,
   "metadata": {
    "collapsed": false
   },
   "outputs": [
    {
     "name": "stdout",
     "output_type": "stream",
     "text": [
      "Accuracy = 0.869 : on 100 predictions, we have been right 86 times.\n"
     ]
    }
   ],
   "source": [
    "accuracy = float((conf_mat[0][0]+conf_mat[1][1])/float(np.sum(conf_mat)))\n",
    "print \"Accuracy = {} : on 100 predictions, we have been right {} times.\".format(accuracy, np.int(accuracy*100))"
   ]
  },
  {
   "cell_type": "code",
   "execution_count": 17,
   "metadata": {
    "collapsed": false
   },
   "outputs": [
    {
     "name": "stdout",
     "output_type": "stream",
     "text": [
      "*** Logistic regression - Metrics ***\n",
      "Accuracy = 0.859883835932\n",
      "Recall = 0.18005952381\n",
      "Precision = 0.564062971342\n"
     ]
    }
   ],
   "source": [
    "# We can do the very same thing using sklearn cross validation;\n",
    "# and also calculate recall and precison:\n",
    "accuracy_logreg = cross_val_score(logreg, X, y, cv=10, scoring='accuracy').mean()\n",
    "recall_logreg = cross_val_score(logreg, X, y, cv=10, scoring='recall').mean()\n",
    "precision_logreg = cross_val_score(logreg, X, y, cv=10, scoring='precision').mean()\n",
    "\n",
    "print \"*** Logistic regression - Metrics ***\"\n",
    "print \"Accuracy = {}\".format(accuracy_logreg)\n",
    "print \"Recall = {}\".format(recall_logreg)\n",
    "print \"Precision = {}\".format(precision_logreg)"
   ]
  },
  {
   "cell_type": "markdown",
   "metadata": {},
   "source": [
    "### Features importance"
   ]
  },
  {
   "cell_type": "code",
   "execution_count": 18,
   "metadata": {
    "collapsed": false
   },
   "outputs": [
    {
     "data": {
      "text/html": [
       "<div>\n",
       "<table border=\"1\" class=\"dataframe\">\n",
       "  <thead>\n",
       "    <tr style=\"text-align: right;\">\n",
       "      <th></th>\n",
       "      <th>Variable</th>\n",
       "      <th>Log Odds</th>\n",
       "      <th>Odds Ratio</th>\n",
       "    </tr>\n",
       "  </thead>\n",
       "  <tbody>\n",
       "    <tr>\n",
       "      <th>2</th>\n",
       "      <td>Int'l Plan</td>\n",
       "      <td>1.931188</td>\n",
       "      <td>6.897698</td>\n",
       "    </tr>\n",
       "    <tr>\n",
       "      <th>17</th>\n",
       "      <td>CustServ Calls</td>\n",
       "      <td>0.515554</td>\n",
       "      <td>1.674566</td>\n",
       "    </tr>\n",
       "    <tr>\n",
       "      <th>16</th>\n",
       "      <td>Intl Charge</td>\n",
       "      <td>0.066464</td>\n",
       "      <td>1.068723</td>\n",
       "    </tr>\n",
       "    <tr>\n",
       "      <th>14</th>\n",
       "      <td>Intl Mins</td>\n",
       "      <td>0.032280</td>\n",
       "      <td>1.032806</td>\n",
       "    </tr>\n",
       "    <tr>\n",
       "      <th>7</th>\n",
       "      <td>Day Charge</td>\n",
       "      <td>0.024443</td>\n",
       "      <td>1.024744</td>\n",
       "    </tr>\n",
       "    <tr>\n",
       "      <th>4</th>\n",
       "      <td>VMail Message</td>\n",
       "      <td>0.013353</td>\n",
       "      <td>1.013442</td>\n",
       "    </tr>\n",
       "    <tr>\n",
       "      <th>5</th>\n",
       "      <td>Day Mins</td>\n",
       "      <td>0.007526</td>\n",
       "      <td>1.007554</td>\n",
       "    </tr>\n",
       "    <tr>\n",
       "      <th>8</th>\n",
       "      <td>Eve Mins</td>\n",
       "      <td>0.003913</td>\n",
       "      <td>1.003920</td>\n",
       "    </tr>\n",
       "    <tr>\n",
       "      <th>11</th>\n",
       "      <td>Night Mins</td>\n",
       "      <td>0.002483</td>\n",
       "      <td>1.002486</td>\n",
       "    </tr>\n",
       "    <tr>\n",
       "      <th>10</th>\n",
       "      <td>Eve Charge</td>\n",
       "      <td>0.002138</td>\n",
       "      <td>1.002141</td>\n",
       "    </tr>\n",
       "    <tr>\n",
       "      <th>0</th>\n",
       "      <td>Account Length</td>\n",
       "      <td>0.000224</td>\n",
       "      <td>1.000224</td>\n",
       "    </tr>\n",
       "    <tr>\n",
       "      <th>12</th>\n",
       "      <td>Night Calls</td>\n",
       "      <td>-0.001919</td>\n",
       "      <td>0.998083</td>\n",
       "    </tr>\n",
       "    <tr>\n",
       "      <th>13</th>\n",
       "      <td>Night Charge</td>\n",
       "      <td>-0.001944</td>\n",
       "      <td>0.998058</td>\n",
       "    </tr>\n",
       "    <tr>\n",
       "      <th>6</th>\n",
       "      <td>Day Calls</td>\n",
       "      <td>-0.003541</td>\n",
       "      <td>0.996465</td>\n",
       "    </tr>\n",
       "    <tr>\n",
       "      <th>9</th>\n",
       "      <td>Eve Calls</td>\n",
       "      <td>-0.003904</td>\n",
       "      <td>0.996104</td>\n",
       "    </tr>\n",
       "    <tr>\n",
       "      <th>1</th>\n",
       "      <td>Area Code</td>\n",
       "      <td>-0.005026</td>\n",
       "      <td>0.994987</td>\n",
       "    </tr>\n",
       "    <tr>\n",
       "      <th>15</th>\n",
       "      <td>Intl Calls</td>\n",
       "      <td>-0.084795</td>\n",
       "      <td>0.918701</td>\n",
       "    </tr>\n",
       "    <tr>\n",
       "      <th>3</th>\n",
       "      <td>VMail Plan</td>\n",
       "      <td>-1.199866</td>\n",
       "      <td>0.301235</td>\n",
       "    </tr>\n",
       "  </tbody>\n",
       "</table>\n",
       "</div>"
      ],
      "text/plain": [
       "          Variable  Log Odds  Odds Ratio\n",
       "2       Int'l Plan  1.931188    6.897698\n",
       "17  CustServ Calls  0.515554    1.674566\n",
       "16     Intl Charge  0.066464    1.068723\n",
       "14       Intl Mins  0.032280    1.032806\n",
       "7       Day Charge  0.024443    1.024744\n",
       "4    VMail Message  0.013353    1.013442\n",
       "5         Day Mins  0.007526    1.007554\n",
       "8         Eve Mins  0.003913    1.003920\n",
       "11      Night Mins  0.002483    1.002486\n",
       "10      Eve Charge  0.002138    1.002141\n",
       "0   Account Length  0.000224    1.000224\n",
       "12     Night Calls -0.001919    0.998083\n",
       "13    Night Charge -0.001944    0.998058\n",
       "6        Day Calls -0.003541    0.996465\n",
       "9        Eve Calls -0.003904    0.996104\n",
       "1        Area Code -0.005026    0.994987\n",
       "15      Intl Calls -0.084795    0.918701\n",
       "3       VMail Plan -1.199866    0.301235"
      ]
     },
     "execution_count": 18,
     "metadata": {},
     "output_type": "execute_result"
    }
   ],
   "source": [
    "logit_coefs = pd.DataFrame(zip(X.columns, np.transpose(logreg.coef_).squeeze())).\\\n",
    "    rename(columns = {0:'Variable', 1:'Log Odds'})\n",
    "    \n",
    "logit_coefs['Odds Ratio'] = np.exp(logit_coefs['Log Odds'])\n",
    "\n",
    "logit_coefs.sort_values('Odds Ratio', ascending=False)"
   ]
  },
  {
   "cell_type": "markdown",
   "metadata": {},
   "source": [
    "## Random forest"
   ]
  },
  {
   "cell_type": "code",
   "execution_count": 19,
   "metadata": {
    "collapsed": false
   },
   "outputs": [],
   "source": [
    "from sklearn.ensemble import RandomForestClassifier\n",
    "rf = RandomForestClassifier().fit(X_train, y_train)"
   ]
  },
  {
   "cell_type": "code",
   "execution_count": 20,
   "metadata": {
    "collapsed": false
   },
   "outputs": [
    {
     "name": "stdout",
     "output_type": "stream",
     "text": [
      "*** Random forest - Metrics ***\n",
      "Accuracy 0.946300192408:\n",
      "Recall 0.685289115646:\n",
      "Precision 0.936158207202:\n"
     ]
    },
    {
     "data": {
      "text/html": [
       "<div>\n",
       "<table border=\"1\" class=\"dataframe\">\n",
       "  <thead>\n",
       "    <tr style=\"text-align: right;\">\n",
       "      <th>Actual</th>\n",
       "      <th>False</th>\n",
       "      <th>True</th>\n",
       "    </tr>\n",
       "    <tr>\n",
       "      <th>Predicted</th>\n",
       "      <th></th>\n",
       "      <th></th>\n",
       "    </tr>\n",
       "  </thead>\n",
       "  <tbody>\n",
       "    <tr>\n",
       "      <th>False</th>\n",
       "      <td>842</td>\n",
       "      <td>35</td>\n",
       "    </tr>\n",
       "    <tr>\n",
       "      <th>True</th>\n",
       "      <td>20</td>\n",
       "      <td>103</td>\n",
       "    </tr>\n",
       "  </tbody>\n",
       "</table>\n",
       "</div>"
      ],
      "text/plain": [
       "Actual     False  True \n",
       "Predicted              \n",
       "False        842     35\n",
       "True          20    103"
      ]
     },
     "execution_count": 20,
     "metadata": {},
     "output_type": "execute_result"
    }
   ],
   "source": [
    "accuracy = cross_val_score(rf, X, y, cv=10, scoring='accuracy').mean()\n",
    "recall = cross_val_score(rf, X, y, cv=10, scoring='recall').mean()\n",
    "precision = cross_val_score(rf, X, y, cv=10, scoring='precision').mean()\n",
    "\n",
    "print \"*** Random forest - Metrics ***\"\n",
    "print \"Accuracy {}:\".format(accuracy)\n",
    "print \"Recall {}:\".format(recall)\n",
    "print \"Precision {}:\".format(precision)\n",
    "\n",
    "rf_res = pd.DataFrame(zip(y_test, rf.predict(X_test)), columns=[\"Actual\", \"Predicted\"])\n",
    "pd.crosstab(rf_res.Predicted, rf_res.Actual)"
   ]
  },
  {
   "cell_type": "code",
   "execution_count": 21,
   "metadata": {
    "collapsed": false
   },
   "outputs": [
    {
     "name": "stdout",
     "output_type": "stream",
     "text": [
      "*********** Random forest - Feature importance ***********\n"
     ]
    },
    {
     "data": {
      "image/png": "[encoded data removed]",
      "text/plain": [
       "<matplotlib.figure.Figure at 0x10c3196d0>"
      ]
     },
     "metadata": {},
     "output_type": "display_data"
    }
   ],
   "source": [
    "print \"*********** Random forest - Feature importance ***********\"\n",
    "importances = rf.feature_importances_\n",
    "std = np.std([tree.feature_importances_ for tree in rf.estimators_], axis=0)\n",
    "indices = np.argsort(importances)\n",
    "plt.figure(figsize=(15,5))\n",
    "plt.barh(range(len(indices)), importances[indices], yerr=std[indices], color='lightblue')\n",
    "ticks = plt.yticks(range(len(indices)), df.columns)"
   ]
  },
  {
   "cell_type": "code",
   "execution_count": 22,
   "metadata": {
    "collapsed": false
   },
   "outputs": [
    {
     "data": {
      "text/plain": [
       "{'bootstrap': True,\n",
       " 'max_depth': None,\n",
       " 'max_features': 'auto',\n",
       " 'min_samples_leaf': 1,\n",
       " 'min_samples_split': 1,\n",
       " 'n_estimators': 50,\n",
       " 'random_state': 1}"
      ]
     },
     "execution_count": 22,
     "metadata": {},
     "output_type": "execute_result"
    }
   ],
   "source": [
    "from sklearn.grid_search import RandomizedSearchCV\n",
    "\n",
    "rf_grid = {'max_depth': [3, None],\n",
    "           'max_features' : ['auto', 'sqrt', 'log2'],\n",
    "           'min_samples_split': [1, 3, 10],  \n",
    "           'min_samples_leaf': [1, 3, 10],\n",
    "           'bootstrap': [True, False],\n",
    "           'n_estimators': [25, 40, 50],\n",
    "           'random_state': [1]}\n",
    "\n",
    "rf_opt = RandomizedSearchCV(rf, rf_grid, cv=5, n_jobs=-1, scoring='accuracy')\n",
    "rf_opt.fit(X_train, y_train)\n",
    "rf_opt.best_params_"
   ]
  },
  {
   "cell_type": "code",
   "execution_count": 23,
   "metadata": {
    "collapsed": false
   },
   "outputs": [
    {
     "name": "stdout",
     "output_type": "stream",
     "text": [
      "*** Optimized random forest - Metrics ***\n",
      "Accuracy 0.954997726362:\n",
      "Recall 0.735008591065:\n",
      "Precision 0.9236928262:\n"
     ]
    }
   ],
   "source": [
    "accuracy_rf_opt = cross_val_score(rf_opt, X, y, cv=5, scoring='accuracy').mean()\n",
    "recall_rf_opt = cross_val_score(rf_opt, X, y, cv=5, scoring='recall').mean()\n",
    "precision_rf_opt = cross_val_score(rf_opt, X, y, cv=5, scoring='precision').mean()\n",
    "\n",
    "print \"*** Optimized random forest - Metrics ***\"\n",
    "print \"Accuracy {}:\".format(accuracy_rf_opt)\n",
    "print \"Recall {}:\".format(recall_rf_opt)\n",
    "print \"Precision {}:\".format(precision_rf_opt)"
   ]
  },
  {
   "cell_type": "markdown",
   "metadata": {
    "collapsed": true
   },
   "source": [
    "## Gradient boosting"
   ]
  },
  {
   "cell_type": "code",
   "execution_count": 24,
   "metadata": {
    "collapsed": false
   },
   "outputs": [],
   "source": [
    "from sklearn.ensemble import GradientBoostingClassifier\n",
    "gbc = GradientBoostingClassifier().fit(X_train, y_train)"
   ]
  },
  {
   "cell_type": "code",
   "execution_count": 25,
   "metadata": {
    "collapsed": false
   },
   "outputs": [
    {
     "name": "stdout",
     "output_type": "stream",
     "text": [
      "*** Gradient boosting - Metrics ***\n",
      "Accuracy = 0.950499901099\n",
      "Recall = 0.732908163265\n",
      "Precision = 0.908708437231\n"
     ]
    },
    {
     "data": {
      "text/html": [
       "<div>\n",
       "<table border=\"1\" class=\"dataframe\">\n",
       "  <thead>\n",
       "    <tr style=\"text-align: right;\">\n",
       "      <th>Actual</th>\n",
       "      <th>False</th>\n",
       "      <th>True</th>\n",
       "    </tr>\n",
       "    <tr>\n",
       "      <th>Predicted</th>\n",
       "      <th></th>\n",
       "      <th></th>\n",
       "    </tr>\n",
       "  </thead>\n",
       "  <tbody>\n",
       "    <tr>\n",
       "      <th>False</th>\n",
       "      <td>842</td>\n",
       "      <td>35</td>\n",
       "    </tr>\n",
       "    <tr>\n",
       "      <th>True</th>\n",
       "      <td>20</td>\n",
       "      <td>103</td>\n",
       "    </tr>\n",
       "  </tbody>\n",
       "</table>\n",
       "</div>"
      ],
      "text/plain": [
       "Actual     False  True \n",
       "Predicted              \n",
       "False        842     35\n",
       "True          20    103"
      ]
     },
     "execution_count": 25,
     "metadata": {},
     "output_type": "execute_result"
    }
   ],
   "source": [
    "accuracy_gbc = cross_val_score(gbc, X, y, cv=10, scoring='accuracy').mean()\n",
    "recall_gbc = cross_val_score(gbc, X, y, cv=10, scoring='recall').mean()\n",
    "precision_gbc = cross_val_score(gbc, X, y, cv=10, scoring='precision').mean()\n",
    "\n",
    "print \"*** Gradient boosting - Metrics ***\"\n",
    "print \"Accuracy = {}\".format(accuracy_gbc)\n",
    "print \"Recall = {}\".format(recall_gbc)\n",
    "print \"Precision = {}\".format(precision_gbc)\n",
    "\n",
    "rf_res = pd.DataFrame(zip(y_test, rf.predict(X_test)), columns=[\"Actual\", \"Predicted\"])\n",
    "pd.crosstab(rf_res.Predicted, rf_res.Actual)"
   ]
  },
  {
   "cell_type": "code",
   "execution_count": 29,
   "metadata": {
    "collapsed": false
   },
   "outputs": [
    {
     "data": {
      "image/png": "[encoded data removed]",
      "text/plain": [
       "<matplotlib.figure.Figure at 0x10c12b450>"
      ]
     },
     "metadata": {},
     "output_type": "display_data"
    }
   ],
   "source": [
    "gbc_imp = pd.DataFrame(zip(X.columns, np.transpose(gbc.feature_importances_)))\n",
    "gbc_imp.sort_values(1, ascending=True, inplace=True)\n",
    "plt.figure(figsize=(15,5))\n",
    "plt.barh(range(gbc_imp.shape[0]), gbc_imp[1], color='darkblue')\n",
    "ticks = plt.yticks(range(gbc_imp.shape[0]), gbc_imp[0])"
   ]
  },
  {
   "cell_type": "code",
   "execution_count": 30,
   "metadata": {
    "collapsed": false
   },
   "outputs": [
    {
     "data": {
      "image/png": "[encoded data removed]",
      "text/plain": [
       "<matplotlib.figure.Figure at 0x10cb37710>"
      ]
     },
     "metadata": {},
     "output_type": "display_data"
    }
   ],
   "source": [
    "from sklearn.ensemble.partial_dependence import plot_partial_dependence\n",
    "fig, axs = plot_partial_dependence(gbc, X_train, range(X_train.shape[1]),\n",
    "                                   feature_names=df.columns, figsize=(15, 10))\n",
    "fig.tight_layout()"
   ]
  },
  {
   "cell_type": "code",
   "execution_count": 31,
   "metadata": {
    "collapsed": false
   },
   "outputs": [
    {
     "data": {
      "text/plain": [
       "Index([u'Account Length', u'Area Code', u'Int'l Plan', u'VMail Plan',\n",
       "       u'VMail Message', u'Day Mins', u'Day Calls', u'Day Charge', u'Eve Mins',\n",
       "       u'Eve Calls', u'Eve Charge', u'Night Mins', u'Night Calls',\n",
       "       u'Night Charge', u'Intl Mins', u'Intl Calls', u'Intl Charge',\n",
       "       u'CustServ Calls'],\n",
       "      dtype='object')"
      ]
     },
     "execution_count": 31,
     "metadata": {},
     "output_type": "execute_result"
    }
   ],
   "source": [
    "X.columns"
   ]
  },
  {
   "cell_type": "code",
   "execution_count": 32,
   "metadata": {
    "collapsed": false
   },
   "outputs": [
    {
     "name": "stdout",
     "output_type": "stream",
     "text": [
      "*** Gradient boosting five features - Metrics ***\n",
      "Accuracy = 0.917797737858\n",
      "Recall = 0.530017006803\n",
      "Precision = 0.8497200276\n"
     ]
    }
   ],
   "source": [
    "X_5 = df[['Account Length', 'VMail Plan', 'CustServ Calls', 'Day Charge', 'Eve Mins']]\n",
    "gbc_5 = GradientBoostingClassifier().fit(X_train, y_train)\n",
    "\n",
    "accuracy_gbc_5 = cross_val_score(gbc_5, X_5, y, cv=10, scoring='accuracy').mean()\n",
    "recall_gbc_5 = cross_val_score(gbc_5, X_5, y, cv=10, scoring='recall').mean()\n",
    "precision_gbc_5 = cross_val_score(gbc_5, X_5, y, cv=10, scoring='precision').mean()\n",
    "\n",
    "print \"*** Gradient boosting five features - Metrics ***\"\n",
    "print \"Accuracy = {}\".format(accuracy_gbc_5)\n",
    "print \"Recall = {}\".format(recall_gbc_5)\n",
    "print \"Precision = {}\".format(precision_gbc_5)"
   ]
  },
  {
   "cell_type": "code",
   "execution_count": 33,
   "metadata": {
    "collapsed": false
   },
   "outputs": [
    {
     "data": {
      "text/plain": [
       "{'learning_rate': 0.05,\n",
       " 'max_depth': 6,\n",
       " 'max_features': 0.3,\n",
       " 'min_samples_leaf': 9,\n",
       " 'n_estimators': 500,\n",
       " 'random_state': 1}"
      ]
     },
     "execution_count": 33,
     "metadata": {},
     "output_type": "execute_result"
    }
   ],
   "source": [
    "from sklearn.grid_search import RandomizedSearchCV\n",
    "\n",
    "gbc_grid = {'learning_rate': [0.1, 0.05, 0.02, 0.01],\n",
    "           'max_depth': [4, 6],\n",
    "           'min_samples_leaf': [3, 5, 9, 17],\n",
    "           'max_features': [1.0, 0.3, 0.1],\n",
    "           'n_estimators': [500],\n",
    "           'random_state': [1]}\n",
    "\n",
    "gbc_opt = RandomizedSearchCV(gbc, gbc_grid, cv=5, n_jobs=-1, scoring='accuracy')\n",
    "gbc_opt.fit(X_train, y_train)\n",
    "gbc_opt.best_params_"
   ]
  },
  {
   "cell_type": "code",
   "execution_count": 34,
   "metadata": {
    "collapsed": false
   },
   "outputs": [
    {
     "name": "stdout",
     "output_type": "stream",
     "text": [
      "*** Gradient boosting optimized - Metrics ***\n",
      "Accuracy = 0.950499901099\n",
      "Recall = 0.732908163265\n",
      "Precision = 0.911313479248\n"
     ]
    }
   ],
   "source": [
    "accuracy_gbc_opt = cross_val_score(gbc, X, y, cv=10, scoring='accuracy').mean()\n",
    "recall_gbc_opt = cross_val_score(gbc, X, y, cv=10, scoring='recall').mean()\n",
    "precision_gbc_opt = cross_val_score(gbc, X, y, cv=10, scoring='precision').mean()\n",
    "\n",
    "print \"*** Gradient boosting optimized - Metrics ***\"\n",
    "print \"Accuracy = {}\".format(accuracy_gbc_opt)\n",
    "print \"Recall = {}\".format(recall_gbc_opt)\n",
    "print \"Precision = {}\".format(precision_gbc_opt)"
   ]
  },
  {
   "cell_type": "code",
   "execution_count": 35,
   "metadata": {
    "collapsed": false
   },
   "outputs": [
    {
     "data": {
      "text/html": [
       "<div>\n",
       "<table border=\"1\" class=\"dataframe\">\n",
       "  <thead>\n",
       "    <tr style=\"text-align: right;\">\n",
       "      <th></th>\n",
       "      <th>Model</th>\n",
       "      <th>Accuracy</th>\n",
       "      <th>Precision</th>\n",
       "      <th>Recall</th>\n",
       "    </tr>\n",
       "  </thead>\n",
       "  <tbody>\n",
       "    <tr>\n",
       "      <th>0</th>\n",
       "      <td>Logistic regression</td>\n",
       "      <td>0.859884</td>\n",
       "      <td>0.564063</td>\n",
       "      <td>0.180060</td>\n",
       "    </tr>\n",
       "    <tr>\n",
       "      <th>1</th>\n",
       "      <td>Optimized random forest</td>\n",
       "      <td>0.954998</td>\n",
       "      <td>0.923693</td>\n",
       "      <td>0.735009</td>\n",
       "    </tr>\n",
       "    <tr>\n",
       "      <th>2</th>\n",
       "      <td>Optimized gradient boosting</td>\n",
       "      <td>0.950500</td>\n",
       "      <td>0.911313</td>\n",
       "      <td>0.732908</td>\n",
       "    </tr>\n",
       "  </tbody>\n",
       "</table>\n",
       "</div>"
      ],
      "text/plain": [
       "                         Model  Accuracy  Precision    Recall\n",
       "0          Logistic regression  0.859884   0.564063  0.180060\n",
       "1      Optimized random forest  0.954998   0.923693  0.735009\n",
       "2  Optimized gradient boosting  0.950500   0.911313  0.732908"
      ]
     },
     "execution_count": 35,
     "metadata": {},
     "output_type": "execute_result"
    }
   ],
   "source": [
    "d = {' Model' : ['Logistic regression', 'Optimized random forest', 'Optimized gradient boosting'],\n",
    "   'Accuracy' : [accuracy_logreg, accuracy_rf_opt, accuracy_gbc_opt],\n",
    "    'Recall' : [recall_logreg, recall_rf_opt, recall_gbc_opt],\n",
    "    'Precision' : [precision_logreg, precision_rf_opt, precision_gbc_opt],}\n",
    "pd.DataFrame(d)"
   ]
  },
  {
   "cell_type": "code",
   "execution_count": null,
   "metadata": {
    "collapsed": true
   },
   "outputs": [],
   "source": []
  },
  {
   "cell_type": "code",
   "execution_count": null,
   "metadata": {
    "collapsed": true
   },
   "outputs": [],
   "source": []
  }
 ],
 "metadata": {
  "kernelspec": {
   "display_name": "Python 2",
   "language": "python",
   "name": "python2"
  },
  "language_info": {
   "codemirror_mode": {
    "name": "ipython",
    "version": 2
   },
   "file_extension": ".py",
   "mimetype": "text/x-python",
   "name": "python",
   "nbconvert_exporter": "python",
   "pygments_lexer": "ipython2",
   "version": "2.7.11"
  }
 },
 "nbformat": 4,
 "nbformat_minor": 0
}
