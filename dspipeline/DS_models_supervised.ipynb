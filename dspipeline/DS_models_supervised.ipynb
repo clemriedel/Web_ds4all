{
 "cells": [
  {
   "cell_type": "markdown",
   "metadata": {},
   "source": [
    "# Supervised learning\n",
    "### A dot of EDA, logistic regression, random forest and gradient boosting.\n",
    "Welcome the ds4all.io notebook about supervised learning. Here I will demonstrate how to use logistic regression, random forest and gradient boosting to learn and predict information on a real dataset related to telecom information. This notebook aims to be a reference on how to perfrom a supervised data science study. Feel free to use part or the whole notebook for yor own study.\n",
    "\n",
    "(If you are coming from the [ds4all.io/pipeline](http://ds4all.io/pipeline)  and are wondering why we are not working with the fraud data: it is because the dataset is private.)\n",
    "\n",
    "*Note: This study is presented on a jupyter notebook for its convenience in the display of contents; if you are developing a project we strongly advise to switch to a text editor after the Exploratory Data Analysis.*"
   ]
  },
  {
   "cell_type": "markdown",
   "metadata": {},
   "source": [
    "## Exploratory Data Analysis (EDA)"
   ]
  },
  {
   "cell_type": "code",
   "execution_count": 71,
   "metadata": {
    "collapsed": false,
    "scrolled": true
   },
   "outputs": [
    {
     "name": "stdout",
     "output_type": "stream",
     "text": [
      "Populating the interactive namespace from numpy and matplotlib\n"
     ]
    },
    {
     "name": "stderr",
     "output_type": "stream",
     "text": [
      "WARNING: pylab import has clobbered these variables: ['indices', 'std']\n",
      "`%matplotlib` prevents importing * from pylab and numpy\n"
     ]
    }
   ],
   "source": [
    "# Import numpy, pandas\n",
    "import numpy as np\n",
    "import pandas as pd\n",
    "%pylab inline"
   ]
  },
  {
   "cell_type": "code",
   "execution_count": 72,
   "metadata": {
    "collapsed": false
   },
   "outputs": [],
   "source": [
    "# Read the csv file and store it in a panda data frame. \n",
    "# The data is available at github.com/clemriedel/ds4all/supervised_learning\n",
    "df = pd.read_csv('telecom_churn.csv')"
   ]
  },
  {
   "cell_type": "code",
   "execution_count": 73,
   "metadata": {
    "collapsed": false
   },
   "outputs": [
    {
     "name": "stdout",
     "output_type": "stream",
     "text": [
      "The dataset contains 3333 observations and 21 features.\n"
     ]
    }
   ],
   "source": [
    "# Shape of the dataset\n",
    "shape(df)\n",
    "print \"The dataset contains {} observations and {} features.\".format(shape(df)[0],shape(df)[1])"
   ]
  },
  {
   "cell_type": "code",
   "execution_count": 74,
   "metadata": {
    "collapsed": false
   },
   "outputs": [
    {
     "name": "stdout",
     "output_type": "stream",
     "text": [
      "<class 'pandas.core.frame.DataFrame'>\n",
      "RangeIndex: 3333 entries, 0 to 3332\n",
      "Data columns (total 21 columns):\n",
      "State             3333 non-null object\n",
      "Account Length    3333 non-null int64\n",
      "Area Code         3333 non-null int64\n",
      "Phone             3333 non-null object\n",
      "Int'l Plan        3333 non-null object\n",
      "VMail Plan        3333 non-null object\n",
      "VMail Message     3333 non-null int64\n",
      "Day Mins          3333 non-null float64\n",
      "Day Calls         3333 non-null int64\n",
      "Day Charge        3333 non-null float64\n",
      "Eve Mins          3333 non-null float64\n",
      "Eve Calls         3333 non-null int64\n",
      "Eve Charge        3333 non-null float64\n",
      "Night Mins        3333 non-null float64\n",
      "Night Calls       3333 non-null int64\n",
      "Night Charge      3333 non-null float64\n",
      "Intl Mins         3333 non-null float64\n",
      "Intl Calls        3333 non-null int64\n",
      "Intl Charge       3333 non-null float64\n",
      "CustServ Calls    3333 non-null int64\n",
      "Churn?            3333 non-null object\n",
      "dtypes: float64(8), int64(8), object(5)\n",
      "memory usage: 546.9+ KB\n"
     ]
    }
   ],
   "source": [
    "# Info: Features names, types and missing values\n",
    "df.info()"
   ]
  },
  {
   "cell_type": "code",
   "execution_count": 75,
   "metadata": {
    "collapsed": false
   },
   "outputs": [
    {
     "data": {
      "text/html": [
       "<div>\n",
       "<table border=\"1\" class=\"dataframe\">\n",
       "  <thead>\n",
       "    <tr style=\"text-align: right;\">\n",
       "      <th></th>\n",
       "      <th>State</th>\n",
       "      <th>Account Length</th>\n",
       "      <th>Area Code</th>\n",
       "      <th>Phone</th>\n",
       "      <th>Int'l Plan</th>\n",
       "      <th>VMail Plan</th>\n",
       "      <th>VMail Message</th>\n",
       "      <th>Day Mins</th>\n",
       "      <th>Day Calls</th>\n",
       "      <th>Day Charge</th>\n",
       "      <th>...</th>\n",
       "      <th>Eve Calls</th>\n",
       "      <th>Eve Charge</th>\n",
       "      <th>Night Mins</th>\n",
       "      <th>Night Calls</th>\n",
       "      <th>Night Charge</th>\n",
       "      <th>Intl Mins</th>\n",
       "      <th>Intl Calls</th>\n",
       "      <th>Intl Charge</th>\n",
       "      <th>CustServ Calls</th>\n",
       "      <th>Churn?</th>\n",
       "    </tr>\n",
       "  </thead>\n",
       "  <tbody>\n",
       "    <tr>\n",
       "      <th>0</th>\n",
       "      <td>KS</td>\n",
       "      <td>128</td>\n",
       "      <td>415</td>\n",
       "      <td>382-4657</td>\n",
       "      <td>no</td>\n",
       "      <td>yes</td>\n",
       "      <td>25</td>\n",
       "      <td>265.1</td>\n",
       "      <td>110</td>\n",
       "      <td>45.07</td>\n",
       "      <td>...</td>\n",
       "      <td>99</td>\n",
       "      <td>16.78</td>\n",
       "      <td>244.7</td>\n",
       "      <td>91</td>\n",
       "      <td>11.01</td>\n",
       "      <td>10.0</td>\n",
       "      <td>3</td>\n",
       "      <td>2.70</td>\n",
       "      <td>1</td>\n",
       "      <td>False.</td>\n",
       "    </tr>\n",
       "    <tr>\n",
       "      <th>1</th>\n",
       "      <td>OH</td>\n",
       "      <td>107</td>\n",
       "      <td>415</td>\n",
       "      <td>371-7191</td>\n",
       "      <td>no</td>\n",
       "      <td>yes</td>\n",
       "      <td>26</td>\n",
       "      <td>161.6</td>\n",
       "      <td>123</td>\n",
       "      <td>27.47</td>\n",
       "      <td>...</td>\n",
       "      <td>103</td>\n",
       "      <td>16.62</td>\n",
       "      <td>254.4</td>\n",
       "      <td>103</td>\n",
       "      <td>11.45</td>\n",
       "      <td>13.7</td>\n",
       "      <td>3</td>\n",
       "      <td>3.70</td>\n",
       "      <td>1</td>\n",
       "      <td>False.</td>\n",
       "    </tr>\n",
       "    <tr>\n",
       "      <th>2</th>\n",
       "      <td>NJ</td>\n",
       "      <td>137</td>\n",
       "      <td>415</td>\n",
       "      <td>358-1921</td>\n",
       "      <td>no</td>\n",
       "      <td>no</td>\n",
       "      <td>0</td>\n",
       "      <td>243.4</td>\n",
       "      <td>114</td>\n",
       "      <td>41.38</td>\n",
       "      <td>...</td>\n",
       "      <td>110</td>\n",
       "      <td>10.30</td>\n",
       "      <td>162.6</td>\n",
       "      <td>104</td>\n",
       "      <td>7.32</td>\n",
       "      <td>12.2</td>\n",
       "      <td>5</td>\n",
       "      <td>3.29</td>\n",
       "      <td>0</td>\n",
       "      <td>False.</td>\n",
       "    </tr>\n",
       "    <tr>\n",
       "      <th>3</th>\n",
       "      <td>OH</td>\n",
       "      <td>84</td>\n",
       "      <td>408</td>\n",
       "      <td>375-9999</td>\n",
       "      <td>yes</td>\n",
       "      <td>no</td>\n",
       "      <td>0</td>\n",
       "      <td>299.4</td>\n",
       "      <td>71</td>\n",
       "      <td>50.90</td>\n",
       "      <td>...</td>\n",
       "      <td>88</td>\n",
       "      <td>5.26</td>\n",
       "      <td>196.9</td>\n",
       "      <td>89</td>\n",
       "      <td>8.86</td>\n",
       "      <td>6.6</td>\n",
       "      <td>7</td>\n",
       "      <td>1.78</td>\n",
       "      <td>2</td>\n",
       "      <td>False.</td>\n",
       "    </tr>\n",
       "    <tr>\n",
       "      <th>4</th>\n",
       "      <td>OK</td>\n",
       "      <td>75</td>\n",
       "      <td>415</td>\n",
       "      <td>330-6626</td>\n",
       "      <td>yes</td>\n",
       "      <td>no</td>\n",
       "      <td>0</td>\n",
       "      <td>166.7</td>\n",
       "      <td>113</td>\n",
       "      <td>28.34</td>\n",
       "      <td>...</td>\n",
       "      <td>122</td>\n",
       "      <td>12.61</td>\n",
       "      <td>186.9</td>\n",
       "      <td>121</td>\n",
       "      <td>8.41</td>\n",
       "      <td>10.1</td>\n",
       "      <td>3</td>\n",
       "      <td>2.73</td>\n",
       "      <td>3</td>\n",
       "      <td>False.</td>\n",
       "    </tr>\n",
       "  </tbody>\n",
       "</table>\n",
       "<p>5 rows × 21 columns</p>\n",
       "</div>"
      ],
      "text/plain": [
       "  State  Account Length  Area Code     Phone Int'l Plan VMail Plan  \\\n",
       "0    KS             128        415  382-4657         no        yes   \n",
       "1    OH             107        415  371-7191         no        yes   \n",
       "2    NJ             137        415  358-1921         no         no   \n",
       "3    OH              84        408  375-9999        yes         no   \n",
       "4    OK              75        415  330-6626        yes         no   \n",
       "\n",
       "   VMail Message  Day Mins  Day Calls  Day Charge   ...    Eve Calls  \\\n",
       "0             25     265.1        110       45.07   ...           99   \n",
       "1             26     161.6        123       27.47   ...          103   \n",
       "2              0     243.4        114       41.38   ...          110   \n",
       "3              0     299.4         71       50.90   ...           88   \n",
       "4              0     166.7        113       28.34   ...          122   \n",
       "\n",
       "   Eve Charge  Night Mins  Night Calls  Night Charge  Intl Mins  Intl Calls  \\\n",
       "0       16.78       244.7           91         11.01       10.0           3   \n",
       "1       16.62       254.4          103         11.45       13.7           3   \n",
       "2       10.30       162.6          104          7.32       12.2           5   \n",
       "3        5.26       196.9           89          8.86        6.6           7   \n",
       "4       12.61       186.9          121          8.41       10.1           3   \n",
       "\n",
       "   Intl Charge  CustServ Calls  Churn?  \n",
       "0         2.70               1  False.  \n",
       "1         3.70               1  False.  \n",
       "2         3.29               0  False.  \n",
       "3         1.78               2  False.  \n",
       "4         2.73               3  False.  \n",
       "\n",
       "[5 rows x 21 columns]"
      ]
     },
     "execution_count": 75,
     "metadata": {},
     "output_type": "execute_result"
    }
   ],
   "source": [
    "# Overview of the data first elements.\n",
    "df.head()"
   ]
  },
  {
   "cell_type": "markdown",
   "metadata": {
    "collapsed": true
   },
   "source": [
    "#### Missing values\n",
    "In the info, we see that we do not have missing values (all the features have 3333 values). (If I do have missing values, I can drop columns with too many of them; keep track of how many are missing and replace them by the mean or drop them.)  We can only deal with numbers so State should be \"dummified\" if we want to include it in the study."
   ]
  },
  {
   "cell_type": "markdown",
   "metadata": {},
   "source": [
    "#### Dummification\n",
    "Dummification works as follows: We replace the one column state by 51 columns, one for each state. The observation will have fifty 0 and one 1 for the corresponding states. Dummification works great for a small number of features. For this study: We provide the code but choose not to dummify States and drop the column."
   ]
  },
  {
   "cell_type": "code",
   "execution_count": 76,
   "metadata": {
    "collapsed": false
   },
   "outputs": [
    {
     "data": {
      "text/plain": [
       "51"
      ]
     },
     "execution_count": 76,
     "metadata": {},
     "output_type": "execute_result"
    }
   ],
   "source": [
    "len(df.State.unique())"
   ]
  },
  {
   "cell_type": "code",
   "execution_count": 77,
   "metadata": {
    "collapsed": false
   },
   "outputs": [
    {
     "data": {
      "text/plain": [
       "(3333, 71)"
      ]
     },
     "execution_count": 77,
     "metadata": {},
     "output_type": "execute_result"
    }
   ],
   "source": [
    "df_states = pd.get_dummies(df['State'])\n",
    "frames = [df, df_states]\n",
    "df_dummy = pd.concat(frames, axis=1)\n",
    "df_dummy.drop('State', axis=1, inplace=True)\n",
    "shape(df_dummy) #We see in the shape that the 51 states have been added as new columns."
   ]
  },
  {
   "cell_type": "markdown",
   "metadata": {},
   "source": [
    "#### Back to our study: \n",
    "Phone number is not judged to be a predictive feature: we will drop this column. As previously explained, we also drop State. We make sure we only have numbers in our database."
   ]
  },
  {
   "cell_type": "code",
   "execution_count": 78,
   "metadata": {
    "collapsed": false
   },
   "outputs": [],
   "source": [
    "df.drop(['State', 'Phone'], axis=1, inplace=True)\n",
    "df = df.replace(['yes', 'no'], [1, 0])\n",
    "df = df.replace(['True.', 'False.'], [True, False]) \n",
    "#Pandas deals with True and False as 1 and 0, but we still need to remove the dots."
   ]
  },
  {
   "cell_type": "markdown",
   "metadata": {},
   "source": [
    "#### Finally, we obtain our 'y' and the matrix of features X"
   ]
  },
  {
   "cell_type": "code",
   "execution_count": 79,
   "metadata": {
    "collapsed": false
   },
   "outputs": [],
   "source": [
    "y = df.pop('Churn?')\n",
    "X = df"
   ]
  },
  {
   "cell_type": "markdown",
   "metadata": {},
   "source": [
    "# Modeling"
   ]
  },
  {
   "cell_type": "code",
   "execution_count": 80,
   "metadata": {
    "collapsed": true
   },
   "outputs": [],
   "source": [
    "# Import basic modules from sklearn\n",
    "from sklearn.cross_validation import train_test_split\n",
    "from sklearn.cross_validation import cross_val_score\n",
    "from sklearn.metrics import *"
   ]
  },
  {
   "cell_type": "markdown",
   "metadata": {},
   "source": [
    "#### Train / test split\n",
    "Sklearn permits to split the sample into a training and testing set.The testing set is always composed of 'previously unseen' observation in my studies. I choose 70% of the data as training set and 30% as 'keep unseen for testing'."
   ]
  },
  {
   "cell_type": "code",
   "execution_count": 81,
   "metadata": {
    "collapsed": true
   },
   "outputs": [],
   "source": [
    "X_train, X_test, y_train, y_test = train_test_split(X, y, test_size=0.3, random_state=0)"
   ]
  },
  {
   "cell_type": "markdown",
   "metadata": {},
   "source": [
    "## Logistic regression"
   ]
  },
  {
   "cell_type": "code",
   "execution_count": 82,
   "metadata": {
    "collapsed": true
   },
   "outputs": [],
   "source": [
    "from sklearn.linear_model import LogisticRegression"
   ]
  },
  {
   "cell_type": "code",
   "execution_count": 83,
   "metadata": {
    "collapsed": false
   },
   "outputs": [
    {
     "data": {
      "text/plain": [
       "LogisticRegression(C=1.0, class_weight=None, dual=False, fit_intercept=True,\n",
       "          intercept_scaling=1, max_iter=100, multi_class='ovr', n_jobs=1,\n",
       "          penalty='l2', random_state=None, solver='liblinear', tol=0.0001,\n",
       "          verbose=0, warm_start=False)"
      ]
     },
     "execution_count": 83,
     "metadata": {},
     "output_type": "execute_result"
    }
   ],
   "source": [
    "logreg = LogisticRegression() # Instantiate the model\n",
    "logreg.fit(X_train, y_train) # Fit to the training dataset."
   ]
  },
  {
   "cell_type": "markdown",
   "metadata": {},
   "source": [
    "### Confusion matrix and metrics"
   ]
  },
  {
   "cell_type": "code",
   "execution_count": 84,
   "metadata": {
    "collapsed": false
   },
   "outputs": [],
   "source": [
    "# sklearn can calculate the confusion matrix\n",
    "conf_mat = confusion_matrix(y_test, logreg.predict(X_test))"
   ]
  },
  {
   "cell_type": "code",
   "execution_count": 85,
   "metadata": {
    "collapsed": false
   },
   "outputs": [
    {
     "name": "stdout",
     "output_type": "stream",
     "text": [
      "*** Logistic regression - confusion matrix ***\n"
     ]
    },
    {
     "data": {
      "text/html": [
       "<div>\n",
       "<table border=\"1\" class=\"dataframe\">\n",
       "  <thead>\n",
       "    <tr style=\"text-align: right;\">\n",
       "      <th>Predicted</th>\n",
       "      <th>False</th>\n",
       "      <th>True</th>\n",
       "    </tr>\n",
       "    <tr>\n",
       "      <th>Actual</th>\n",
       "      <th></th>\n",
       "      <th></th>\n",
       "    </tr>\n",
       "  </thead>\n",
       "  <tbody>\n",
       "    <tr>\n",
       "      <th>False</th>\n",
       "      <td>844</td>\n",
       "      <td>18</td>\n",
       "    </tr>\n",
       "    <tr>\n",
       "      <th>True</th>\n",
       "      <td>114</td>\n",
       "      <td>24</td>\n",
       "    </tr>\n",
       "  </tbody>\n",
       "</table>\n",
       "</div>"
      ],
      "text/plain": [
       "Predicted  False  True \n",
       "Actual                 \n",
       "False        844     18\n",
       "True         114     24"
      ]
     },
     "execution_count": 85,
     "metadata": {},
     "output_type": "execute_result"
    }
   ],
   "source": [
    "# Same thing, easier to read:\n",
    "print \"*** Logistic regression - confusion matrix ***\"\n",
    "logreg_res = pd.DataFrame(zip(logreg.predict(X_test), y_test), columns=[\"Predicted\",\"Actual\"])\n",
    "pd.crosstab(logreg_res.Actual, logreg_res.Predicted)"
   ]
  },
  {
   "cell_type": "markdown",
   "metadata": {},
   "source": [
    "**Let's take a second here to detail how to read the confusion matrix** . We split our 3333 intial obseervations into of about 2333 to train and 1000 as unseen (the sum of the four numbers in the confusion matrix). On this 1000 observations 862 (the sum of the first line) were False: they did not lead to a churn. We correctly predict 842 while 20 where predicted as churn while they were not. (You can apply the same for the Actual True).\n",
    "\n",
    "**There are a lot of metrics to evaluate your model:** you may know the accuracy (correct predictions divided by all the predictions, aka 'how many times your model right\". We can also use recall and precision."
   ]
  },
  {
   "cell_type": "code",
   "execution_count": 86,
   "metadata": {
    "collapsed": false
   },
   "outputs": [
    {
     "name": "stdout",
     "output_type": "stream",
     "text": [
      "Accuracy = 0.868 : on 100 predictions, we have been right 86 times.\n"
     ]
    }
   ],
   "source": [
    "accuracy = float((conf_mat[0][0]+conf_mat[1][1])/float(np.sum(conf_mat)))\n",
    "print \"Accuracy = {} : on 100 predictions, we have been right {} times.\".format(accuracy, np.int(accuracy*100))"
   ]
  },
  {
   "cell_type": "code",
   "execution_count": 102,
   "metadata": {
    "collapsed": false
   },
   "outputs": [
    {
     "name": "stdout",
     "output_type": "stream",
     "text": [
      "*** Logistic regression - Metrics ***\n",
      "Accuracy = 0.942093290896\n",
      "Recall = 0.670833333333:\n",
      "Precision = 0.926180090549:\n"
     ]
    }
   ],
   "source": [
    "# We can do the very same thing using sklearn cross validation;\n",
    "# and also calculate recall and precison:\n",
    "accuracy_logreg = cross_val_score(logreg, X, y, cv=10, scoring='accuracy').mean()\n",
    "recall_logreg = cross_val_score(logreg, X, y, cv=10, scoring='recall').mean()\n",
    "precision_logreg = cross_val_score(logreg, X, y, cv=10, scoring='precision').mean()\n",
    "\n",
    "print \"*** Logistic regression - Metrics ***\"\n",
    "print \"Accuracy = {}\".format(accuracy)\n",
    "print \"Recall = {}:\".format(recall)\n",
    "print \"Precision = {}:\".format(precision)"
   ]
  },
  {
   "cell_type": "markdown",
   "metadata": {},
   "source": [
    "### Features importance"
   ]
  },
  {
   "cell_type": "code",
   "execution_count": 88,
   "metadata": {
    "collapsed": false
   },
   "outputs": [
    {
     "data": {
      "text/html": [
       "<div>\n",
       "<table border=\"1\" class=\"dataframe\">\n",
       "  <thead>\n",
       "    <tr style=\"text-align: right;\">\n",
       "      <th></th>\n",
       "      <th>Variable</th>\n",
       "      <th>Log Odds</th>\n",
       "      <th>Odds Ratio</th>\n",
       "    </tr>\n",
       "  </thead>\n",
       "  <tbody>\n",
       "    <tr>\n",
       "      <th>2</th>\n",
       "      <td>Int'l Plan</td>\n",
       "      <td>1.855892</td>\n",
       "      <td>6.397400</td>\n",
       "    </tr>\n",
       "    <tr>\n",
       "      <th>17</th>\n",
       "      <td>CustServ Calls</td>\n",
       "      <td>0.509104</td>\n",
       "      <td>1.663800</td>\n",
       "    </tr>\n",
       "    <tr>\n",
       "      <th>16</th>\n",
       "      <td>Intl Charge</td>\n",
       "      <td>0.046300</td>\n",
       "      <td>1.047389</td>\n",
       "    </tr>\n",
       "    <tr>\n",
       "      <th>14</th>\n",
       "      <td>Intl Mins</td>\n",
       "      <td>0.033763</td>\n",
       "      <td>1.034340</td>\n",
       "    </tr>\n",
       "    <tr>\n",
       "      <th>7</th>\n",
       "      <td>Day Charge</td>\n",
       "      <td>0.016901</td>\n",
       "      <td>1.017044</td>\n",
       "    </tr>\n",
       "    <tr>\n",
       "      <th>4</th>\n",
       "      <td>VMail Message</td>\n",
       "      <td>0.013716</td>\n",
       "      <td>1.013810</td>\n",
       "    </tr>\n",
       "    <tr>\n",
       "      <th>5</th>\n",
       "      <td>Day Mins</td>\n",
       "      <td>0.008562</td>\n",
       "      <td>1.008598</td>\n",
       "    </tr>\n",
       "    <tr>\n",
       "      <th>8</th>\n",
       "      <td>Eve Mins</td>\n",
       "      <td>0.003644</td>\n",
       "      <td>1.003651</td>\n",
       "    </tr>\n",
       "    <tr>\n",
       "      <th>11</th>\n",
       "      <td>Night Mins</td>\n",
       "      <td>0.002155</td>\n",
       "      <td>1.002157</td>\n",
       "    </tr>\n",
       "    <tr>\n",
       "      <th>10</th>\n",
       "      <td>Eve Charge</td>\n",
       "      <td>0.001860</td>\n",
       "      <td>1.001862</td>\n",
       "    </tr>\n",
       "    <tr>\n",
       "      <th>0</th>\n",
       "      <td>Account Length</td>\n",
       "      <td>0.000058</td>\n",
       "      <td>1.000058</td>\n",
       "    </tr>\n",
       "    <tr>\n",
       "      <th>13</th>\n",
       "      <td>Night Charge</td>\n",
       "      <td>-0.001492</td>\n",
       "      <td>0.998509</td>\n",
       "    </tr>\n",
       "    <tr>\n",
       "      <th>12</th>\n",
       "      <td>Night Calls</td>\n",
       "      <td>-0.002540</td>\n",
       "      <td>0.997463</td>\n",
       "    </tr>\n",
       "    <tr>\n",
       "      <th>6</th>\n",
       "      <td>Day Calls</td>\n",
       "      <td>-0.004206</td>\n",
       "      <td>0.995803</td>\n",
       "    </tr>\n",
       "    <tr>\n",
       "      <th>9</th>\n",
       "      <td>Eve Calls</td>\n",
       "      <td>-0.004544</td>\n",
       "      <td>0.995466</td>\n",
       "    </tr>\n",
       "    <tr>\n",
       "      <th>1</th>\n",
       "      <td>Area Code</td>\n",
       "      <td>-0.005714</td>\n",
       "      <td>0.994302</td>\n",
       "    </tr>\n",
       "    <tr>\n",
       "      <th>15</th>\n",
       "      <td>Intl Calls</td>\n",
       "      <td>-0.085659</td>\n",
       "      <td>0.917907</td>\n",
       "    </tr>\n",
       "    <tr>\n",
       "      <th>3</th>\n",
       "      <td>VMail Plan</td>\n",
       "      <td>-1.206772</td>\n",
       "      <td>0.299161</td>\n",
       "    </tr>\n",
       "  </tbody>\n",
       "</table>\n",
       "</div>"
      ],
      "text/plain": [
       "          Variable  Log Odds  Odds Ratio\n",
       "2       Int'l Plan  1.855892    6.397400\n",
       "17  CustServ Calls  0.509104    1.663800\n",
       "16     Intl Charge  0.046300    1.047389\n",
       "14       Intl Mins  0.033763    1.034340\n",
       "7       Day Charge  0.016901    1.017044\n",
       "4    VMail Message  0.013716    1.013810\n",
       "5         Day Mins  0.008562    1.008598\n",
       "8         Eve Mins  0.003644    1.003651\n",
       "11      Night Mins  0.002155    1.002157\n",
       "10      Eve Charge  0.001860    1.001862\n",
       "0   Account Length  0.000058    1.000058\n",
       "13    Night Charge -0.001492    0.998509\n",
       "12     Night Calls -0.002540    0.997463\n",
       "6        Day Calls -0.004206    0.995803\n",
       "9        Eve Calls -0.004544    0.995466\n",
       "1        Area Code -0.005714    0.994302\n",
       "15      Intl Calls -0.085659    0.917907\n",
       "3       VMail Plan -1.206772    0.299161"
      ]
     },
     "execution_count": 88,
     "metadata": {},
     "output_type": "execute_result"
    }
   ],
   "source": [
    "logit_coefs = pd.DataFrame(zip(X.columns, np.transpose(logreg.coef_).squeeze())).\\\n",
    "    rename(columns = {0:'Variable', 1:'Log Odds'})\n",
    "    \n",
    "logit_coefs['Odds Ratio'] = np.exp(logit_coefs['Log Odds'])\n",
    "\n",
    "logit_coefs.sort_values('Odds Ratio', ascending=False)"
   ]
  },
  {
   "cell_type": "markdown",
   "metadata": {},
   "source": [
    "## Random forest"
   ]
  },
  {
   "cell_type": "code",
   "execution_count": 89,
   "metadata": {
    "collapsed": false
   },
   "outputs": [],
   "source": [
    "from sklearn.ensemble import RandomForestClassifier\n",
    "rf = RandomForestClassifier().fit(X_train, y_train)"
   ]
  },
  {
   "cell_type": "code",
   "execution_count": 90,
   "metadata": {
    "collapsed": false
   },
   "outputs": [
    {
     "name": "stdout",
     "output_type": "stream",
     "text": [
      "*** Random forest - Metrics ***\n",
      "Accuracy 0.942093290896:\n",
      "Recall 0.670833333333:\n",
      "Precision 0.926180090549:\n"
     ]
    },
    {
     "data": {
      "text/html": [
       "<div>\n",
       "<table border=\"1\" class=\"dataframe\">\n",
       "  <thead>\n",
       "    <tr style=\"text-align: right;\">\n",
       "      <th>Actual</th>\n",
       "      <th>False</th>\n",
       "      <th>True</th>\n",
       "    </tr>\n",
       "    <tr>\n",
       "      <th>Predicted</th>\n",
       "      <th></th>\n",
       "      <th></th>\n",
       "    </tr>\n",
       "  </thead>\n",
       "  <tbody>\n",
       "    <tr>\n",
       "      <th>False</th>\n",
       "      <td>848</td>\n",
       "      <td>41</td>\n",
       "    </tr>\n",
       "    <tr>\n",
       "      <th>True</th>\n",
       "      <td>14</td>\n",
       "      <td>97</td>\n",
       "    </tr>\n",
       "  </tbody>\n",
       "</table>\n",
       "</div>"
      ],
      "text/plain": [
       "Actual     False  True \n",
       "Predicted              \n",
       "False        848     41\n",
       "True          14     97"
      ]
     },
     "execution_count": 90,
     "metadata": {},
     "output_type": "execute_result"
    }
   ],
   "source": [
    "accuracy = cross_val_score(rf, X, y, cv=10, scoring='accuracy').mean()\n",
    "recall = cross_val_score(rf, X, y, cv=10, scoring='recall').mean()\n",
    "precision = cross_val_score(rf, X, y, cv=10, scoring='precision').mean()\n",
    "\n",
    "print \"*** Random forest - Metrics ***\"\n",
    "print \"Accuracy {}:\".format(accuracy)\n",
    "print \"Recall {}:\".format(recall)\n",
    "print \"Precision {}:\".format(precision)\n",
    "\n",
    "rf_res = pd.DataFrame(zip(y_test, rf.predict(X_test)), columns=[\"Actual\", \"Predicted\"])\n",
    "pd.crosstab(rf_res.Predicted, rf_res.Actual)"
   ]
  },
  {
   "cell_type": "code",
   "execution_count": 91,
   "metadata": {
    "collapsed": false
   },
   "outputs": [
    {
     "name": "stdout",
     "output_type": "stream",
     "text": [
      "*********** Random forest - Feature importance ***********\n"
     ]
    },
    {
     "data": {
      "image/png": "[encoded data removed]",
      "text/plain": [
       "<matplotlib.figure.Figure at 0x103d43510>"
      ]
     },
     "metadata": {},
     "output_type": "display_data"
    }
   ],
   "source": [
    "print \"*********** Random forest - Feature importance ***********\"\n",
    "importances = rf.feature_importances_\n",
    "std = np.std([tree.feature_importances_ for tree in rf.estimators_], axis=0)\n",
    "indices = np.argsort(importances)\n",
    "plt.figure(figsize=(15,5))\n",
    "plt.barh(range(len(indices)), importances[indices], yerr=std[indices], color='lightblue')\n",
    "ticks = plt.yticks(range(len(indices)), df.columns)"
   ]
  },
  {
   "cell_type": "code",
   "execution_count": 92,
   "metadata": {
    "collapsed": false
   },
   "outputs": [
    {
     "data": {
      "text/plain": [
       "{'bootstrap': False,\n",
       " 'max_depth': None,\n",
       " 'max_features': 'auto',\n",
       " 'min_samples_leaf': 1,\n",
       " 'min_samples_split': 1,\n",
       " 'n_estimators': 40,\n",
       " 'random_state': 1}"
      ]
     },
     "execution_count": 92,
     "metadata": {},
     "output_type": "execute_result"
    }
   ],
   "source": [
    "from sklearn.grid_search import RandomizedSearchCV\n",
    "\n",
    "rf_grid = {'max_depth': [3, None],\n",
    "           'max_features' : ['auto', 'sqrt', 'log2'],\n",
    "           'min_samples_split': [1, 3, 10],  \n",
    "           'min_samples_leaf': [1, 3, 10],\n",
    "           'bootstrap': [True, False],\n",
    "           'n_estimators': [25, 40, 50],\n",
    "           'random_state': [1]}\n",
    "\n",
    "rf_opt = RandomizedSearchCV(rf, rf_grid, cv=5, n_jobs=-1, scoring='accuracy')\n",
    "rf_opt.fit(X_train, y_train)\n",
    "rf_opt.best_params_"
   ]
  },
  {
   "cell_type": "code",
   "execution_count": 93,
   "metadata": {
    "collapsed": false
   },
   "outputs": [
    {
     "name": "stdout",
     "output_type": "stream",
     "text": [
      "*** Optimized random forest - Metrics ***\n",
      "Accuracy 0.952597575086:\n",
      "Recall 0.737091924399:\n",
      "Precision 0.945344824101:\n"
     ]
    }
   ],
   "source": [
    "accuracy_rf_opt = cross_val_score(rf_opt, X, y, cv=5, scoring='accuracy').mean()\n",
    "recall_rf_opt = cross_val_score(rf_opt, X, y, cv=5, scoring='recall').mean()\n",
    "precision_rf_opt = cross_val_score(rf_opt, X, y, cv=5, scoring='precision').mean()\n",
    "\n",
    "print \"*** Optimized random forest - Metrics ***\"\n",
    "print \"Accuracy {}:\".format(accuracy_rf_opt)\n",
    "print \"Recall {}:\".format(recall_rf_opt)\n",
    "print \"Precision {}:\".format(precision_rf_opt)"
   ]
  },
  {
   "cell_type": "markdown",
   "metadata": {
    "collapsed": true
   },
   "source": [
    "## Gradient boosting"
   ]
  },
  {
   "cell_type": "code",
   "execution_count": 94,
   "metadata": {
    "collapsed": false
   },
   "outputs": [],
   "source": [
    "from sklearn.ensemble import GradientBoostingClassifier\n",
    "gbc = GradientBoostingClassifier().fit(X_train, y_train)"
   ]
  },
  {
   "cell_type": "code",
   "execution_count": 95,
   "metadata": {
    "collapsed": false
   },
   "outputs": [
    {
     "name": "stdout",
     "output_type": "stream",
     "text": [
      "*** Gradient boosting - Metrics ***\n",
      "Accuracy 0.950499901099:\n",
      "Recall 0.732908163265:\n",
      "Precision 0.906584217152:\n"
     ]
    },
    {
     "data": {
      "text/html": [
       "<div>\n",
       "<table border=\"1\" class=\"dataframe\">\n",
       "  <thead>\n",
       "    <tr style=\"text-align: right;\">\n",
       "      <th>Actual</th>\n",
       "      <th>False</th>\n",
       "      <th>True</th>\n",
       "    </tr>\n",
       "    <tr>\n",
       "      <th>Predicted</th>\n",
       "      <th></th>\n",
       "      <th></th>\n",
       "    </tr>\n",
       "  </thead>\n",
       "  <tbody>\n",
       "    <tr>\n",
       "      <th>False</th>\n",
       "      <td>848</td>\n",
       "      <td>41</td>\n",
       "    </tr>\n",
       "    <tr>\n",
       "      <th>True</th>\n",
       "      <td>14</td>\n",
       "      <td>97</td>\n",
       "    </tr>\n",
       "  </tbody>\n",
       "</table>\n",
       "</div>"
      ],
      "text/plain": [
       "Actual     False  True \n",
       "Predicted              \n",
       "False        848     41\n",
       "True          14     97"
      ]
     },
     "execution_count": 95,
     "metadata": {},
     "output_type": "execute_result"
    }
   ],
   "source": [
    "accuracy_gb = cross_val_score(gbc, X, y, cv=10, scoring='accuracy').mean()\n",
    "recall_gb = cross_val_score(gbc, X, y, cv=10, scoring='recall').mean()\n",
    "precision_gb = cross_val_score(gbc, X, y, cv=10, scoring='precision').mean()\n",
    "\n",
    "print \"*** Gradient boosting - Metrics ***\"\n",
    "print \"Accuracy = {}\".format(accuracy_gb)\n",
    "print \"Recall = {}\".format(recall_gb)\n",
    "print \"Precision = {}\".format(precision_gb)\n",
    "\n",
    "rf_res = pd.DataFrame(zip(y_test, rf.predict(X_test)), columns=[\"Actual\", \"Predicted\"])\n",
    "pd.crosstab(rf_res.Predicted, rf_res.Actual)"
   ]
  },
  {
   "cell_type": "code",
   "execution_count": 96,
   "metadata": {
    "collapsed": false
   },
   "outputs": [
    {
     "data": {
      "image/png": "[encoded data removed]",
      "text/plain": [
       "<matplotlib.figure.Figure at 0x1094be750>"
      ]
     },
     "metadata": {},
     "output_type": "display_data"
    }
   ],
   "source": [
    "gb_imp.sort_values(1, ascending=True, inplace=True)\n",
    "plt.figure(figsize=(15,5))\n",
    "plt.barh(range(gb_imp.shape[0]), gb_imp[1], color='darkblue')\n",
    "ticks = plt.yticks(range(gb_imp.shape[0]), gb_imp[0])"
   ]
  },
  {
   "cell_type": "code",
   "execution_count": 97,
   "metadata": {
    "collapsed": false
   },
   "outputs": [
    {
     "data": {
      "text/plain": [
       "{'learning_rate': 0.02,\n",
       " 'max_depth': 6,\n",
       " 'max_features': 0.3,\n",
       " 'min_samples_leaf': 5,\n",
       " 'n_estimators': 500,\n",
       " 'random_state': 1}"
      ]
     },
     "execution_count": 97,
     "metadata": {},
     "output_type": "execute_result"
    }
   ],
   "source": [
    "from sklearn.grid_search import RandomizedSearchCV\n",
    "\n",
    "gbc_grid = {'learning_rate': [0.1, 0.05, 0.02, 0.01],\n",
    "           'max_depth': [4, 6],\n",
    "           'min_samples_leaf': [3, 5, 9, 17],\n",
    "           'max_features': [1.0, 0.3, 0.1],\n",
    "           'n_estimators': [500],\n",
    "           'random_state': [1]}\n",
    "\n",
    "gbc_opt = RandomizedSearchCV(gbc, gbc_grid, cv=5, n_jobs=-1, scoring='accuracy')\n",
    "gbc_opt.fit(X_train, y_train)\n",
    "gbc_opt.best_params_"
   ]
  },
  {
   "cell_type": "code",
   "execution_count": 98,
   "metadata": {
    "collapsed": false
   },
   "outputs": [
    {
     "name": "stdout",
     "output_type": "stream",
     "text": [
      "*** Gradient boosting optimized - Metrics ***\n",
      "Accuracy = 0.950199600798\n",
      "Recall = 0.732908163265\n",
      "Precision = 0.911237985636\n"
     ]
    },
    {
     "data": {
      "text/html": [
       "<div>\n",
       "<table border=\"1\" class=\"dataframe\">\n",
       "  <thead>\n",
       "    <tr style=\"text-align: right;\">\n",
       "      <th>Actual</th>\n",
       "      <th>False</th>\n",
       "      <th>True</th>\n",
       "    </tr>\n",
       "    <tr>\n",
       "      <th>Predicted</th>\n",
       "      <th></th>\n",
       "      <th></th>\n",
       "    </tr>\n",
       "  </thead>\n",
       "  <tbody>\n",
       "    <tr>\n",
       "      <th>False</th>\n",
       "      <td>848</td>\n",
       "      <td>41</td>\n",
       "    </tr>\n",
       "    <tr>\n",
       "      <th>True</th>\n",
       "      <td>14</td>\n",
       "      <td>97</td>\n",
       "    </tr>\n",
       "  </tbody>\n",
       "</table>\n",
       "</div>"
      ],
      "text/plain": [
       "Actual     False  True \n",
       "Predicted              \n",
       "False        848     41\n",
       "True          14     97"
      ]
     },
     "execution_count": 98,
     "metadata": {},
     "output_type": "execute_result"
    }
   ],
   "source": [
    "accuracy_gb_opt = cross_val_score(gbc, X, y, cv=10, scoring='accuracy').mean()\n",
    "recall_gb_opt = cross_val_score(gbc, X, y, cv=10, scoring='recall').mean()\n",
    "precision_gb_opt = cross_val_score(gbc, X, y, cv=10, scoring='precision').mean()\n",
    "\n",
    "print \"*** Gradient boosting optimized - Metrics ***\"\n",
    "print \"Accuracy = {}\".format(accuracy_gb_opt)\n",
    "print \"Recall = {}\".format(recall_gb_opt)\n",
    "print \"Precision = {}\".format(precision_gb_opt)\n",
    "\n",
    "rf_res = pd.DataFrame(zip(y_test, rf.predict(X_test)), columns=[\"Actual\", \"Predicted\"])\n",
    "pd.crosstab(rf_res.Predicted, rf_res.Actual)"
   ]
  },
  {
   "cell_type": "code",
   "execution_count": 104,
   "metadata": {
    "collapsed": false
   },
   "outputs": [
    {
     "data": {
      "text/html": [
       "<div>\n",
       "<table border=\"1\" class=\"dataframe\">\n",
       "  <thead>\n",
       "    <tr style=\"text-align: right;\">\n",
       "      <th></th>\n",
       "      <th>Model</th>\n",
       "      <th>Accuracy</th>\n",
       "      <th>Precision</th>\n",
       "      <th>Recall</th>\n",
       "    </tr>\n",
       "  </thead>\n",
       "  <tbody>\n",
       "    <tr>\n",
       "      <th>0</th>\n",
       "      <td>Logistic regression</td>\n",
       "      <td>0.861685</td>\n",
       "      <td>0.568668</td>\n",
       "      <td>0.180060</td>\n",
       "    </tr>\n",
       "    <tr>\n",
       "      <th>1</th>\n",
       "      <td>Optimized random forest</td>\n",
       "      <td>0.952598</td>\n",
       "      <td>0.945345</td>\n",
       "      <td>0.737092</td>\n",
       "    </tr>\n",
       "    <tr>\n",
       "      <th>2</th>\n",
       "      <td>Optimized gradient boosting</td>\n",
       "      <td>0.950200</td>\n",
       "      <td>0.911238</td>\n",
       "      <td>0.732908</td>\n",
       "    </tr>\n",
       "  </tbody>\n",
       "</table>\n",
       "</div>"
      ],
      "text/plain": [
       "                         Model  Accuracy  Precision    Recall\n",
       "0          Logistic regression  0.861685   0.568668  0.180060\n",
       "1      Optimized random forest  0.952598   0.945345  0.737092\n",
       "2  Optimized gradient boosting  0.950200   0.911238  0.732908"
      ]
     },
     "execution_count": 104,
     "metadata": {},
     "output_type": "execute_result"
    }
   ],
   "source": [
    "d = {' Model' : ['Logistic regression', 'Optimized random forest', 'Optimized gradient boosting'],\n",
    "   'Accuracy' : [accuracy_logreg, accuracy_rf_opt, accuracy_gb_opt],\n",
    "    'Recall' : [recall_logreg, recall_rf_opt, recall_gb_opt],\n",
    "    'Precision' : [precision_logreg, precision_rf_opt, precision_gb_opt],}\n",
    "pd.DataFrame(d)"
   ]
  },
  {
   "cell_type": "code",
   "execution_count": null,
   "metadata": {
    "collapsed": true
   },
   "outputs": [],
   "source": []
  },
  {
   "cell_type": "code",
   "execution_count": null,
   "metadata": {
    "collapsed": true
   },
   "outputs": [],
   "source": []
  }
 ],
 "metadata": {
  "kernelspec": {
   "display_name": "Python 2",
   "language": "python",
   "name": "python2"
  },
  "language_info": {
   "codemirror_mode": {
    "name": "ipython",
    "version": 2
   },
   "file_extension": ".py",
   "mimetype": "text/x-python",
   "name": "python",
   "nbconvert_exporter": "python",
   "pygments_lexer": "ipython2",
   "version": "2.7.11"
  }
 },
 "nbformat": 4,
 "nbformat_minor": 0
}
